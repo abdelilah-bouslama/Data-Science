{
  "nbformat": 4,
  "nbformat_minor": 0,
  "metadata": {
    "colab": {
      "name": "numpy.ipynb",
      "provenance": [],
      "authorship_tag": "ABX9TyOe0vNDhSl8b3IbupflTPNu",
      "include_colab_link": true
    },
    "kernelspec": {
      "name": "python3",
      "display_name": "Python 3"
    }
  },
  "cells": [
    {
      "cell_type": "markdown",
      "metadata": {
        "id": "view-in-github",
        "colab_type": "text"
      },
      "source": [
        "<a href=\"https://colab.research.google.com/github/abdelilah-bouslama/Data-Science/blob/master/numpy/numpy.ipynb\" target=\"_parent\"><img src=\"https://colab.research.google.com/assets/colab-badge.svg\" alt=\"Open In Colab\"/></a>"
      ]
    },
    {
      "cell_type": "markdown",
      "metadata": {
        "id": "LgoSX0NmLpBD",
        "colab_type": "text"
      },
      "source": [
        "## **Example 1**"
      ]
    },
    {
      "cell_type": "code",
      "metadata": {
        "id": "p4pqeY1EoM5o",
        "colab_type": "code",
        "outputId": "32f222f1-d7ea-4b5f-fe33-ed4fbe08f4fa",
        "colab": {
          "base_uri": "https://localhost:8080/",
          "height": 34
        }
      },
      "source": [
        "import numpy as np\n",
        "Array = np.array([1,2,3])\n",
        "print(type(Array),Array, Array.ndim, Array.size, Array.shape)"
      ],
      "execution_count": 0,
      "outputs": [
        {
          "output_type": "stream",
          "text": [
            "<class 'numpy.ndarray'> [1 2 3] 1 3 (3,)\n"
          ],
          "name": "stdout"
        }
      ]
    },
    {
      "cell_type": "code",
      "metadata": {
        "id": "-MHBmJbio7di",
        "colab_type": "code",
        "colab": {}
      },
      "source": [
        "dims = np.array([[1,2,3],[4,5,6]])\n",
        "print(type(dims),dims, dims.ndim, dims.size, dims.shape, dims.itemsize)\n",
        "dims[:,1] = 10\n",
        "dims[1,:] = 25\n",
        "print(dims)"
      ],
      "execution_count": 0,
      "outputs": []
    },
    {
      "cell_type": "code",
      "metadata": {
        "id": "yA6FRgehM6rB",
        "colab_type": "code",
        "colab": {}
      },
      "source": [
        "print(np.sort(dims))"
      ],
      "execution_count": 0,
      "outputs": []
    },
    {
      "cell_type": "markdown",
      "metadata": {
        "id": "8ad9NjE7LjjG",
        "colab_type": "text"
      },
      "source": [
        "## **Example 2**"
      ]
    },
    {
      "cell_type": "code",
      "metadata": {
        "id": "4Cx5bZcCLfys",
        "colab_type": "code",
        "colab": {}
      },
      "source": [
        "ar = np.array([[1,2,3],[4,5,6],[7,8,9]])\n",
        "print(type(ar), ar)\n",
        "print(\"dimension is %d \"%ar.ndim)\n",
        "print(\"size is %d \"%ar.size)\n",
        "print(\"shape is \",ar.shape)\n",
        "print(\"type is \", ar.dtype)"
      ],
      "execution_count": 0,
      "outputs": []
    },
    {
      "cell_type": "code",
      "metadata": {
        "id": "wIuZnfPtLif7",
        "colab_type": "code",
        "colab": {}
      },
      "source": [
        "print(ar[1:],ar[1,:], ar[1,2])"
      ],
      "execution_count": 0,
      "outputs": []
    },
    {
      "cell_type": "code",
      "metadata": {
        "id": "QHm7M-IqOy__",
        "colab_type": "code",
        "colab": {}
      },
      "source": [
        "print(ar[1:3])\n",
        "print(ar[1,2])\n",
        "#print(ar[1,::2])\n",
        "#print(ar[::-1])\n",
        "#print(ar[:,::-1])"
      ],
      "execution_count": 0,
      "outputs": []
    },
    {
      "cell_type": "code",
      "metadata": {
        "id": "yIbTDpVGhDR-",
        "colab_type": "code",
        "colab": {}
      },
      "source": [
        "import numpy as np\n",
        "ar = np.array([[1,2,3],[4,5,6],[7,8,9]])\n",
        "print(ar.shape)\n",
        "print(ar[1,1])\n",
        "print(ar[2,:])\n",
        "print(ar[::-1])\n",
        "print(ar[1,::2])\n",
        "print(\"dimension is %d \"%ar.ndim)"
      ],
      "execution_count": 0,
      "outputs": []
    },
    {
      "cell_type": "code",
      "metadata": {
        "id": "LCMNmtcJy8b-",
        "colab_type": "code",
        "outputId": "2cd248dd-3450-40f5-853a-aed4d2c39782",
        "colab": {
          "base_uri": "https://localhost:8080/",
          "height": 34
        }
      },
      "source": [
        "print(ar[1,::-1])"
      ],
      "execution_count": 0,
      "outputs": [
        {
          "output_type": "stream",
          "text": [
            "[6 5 4]\n"
          ],
          "name": "stdout"
        }
      ]
    },
    {
      "cell_type": "code",
      "metadata": {
        "id": "BrKebW9J1N2b",
        "colab_type": "code",
        "colab": {}
      },
      "source": [
        "a=np.arange(6).reshape(3,2)\n",
        "b=np.arange(6,12).reshape(3,2)\n",
        "c= a*b\n",
        "print(type(c), c.ndim, c.dtype, a.size)\n",
        "print(np.vstack((a,b)))\n",
        "print(np.hstack((a,b,c)))\n",
        "print(np.zeros((4,3),dtype=int))\n",
        "print(c > 12, c[(a*b) > 12])"
      ],
      "execution_count": 0,
      "outputs": []
    },
    {
      "cell_type": "code",
      "metadata": {
        "id": "cP82QFtX-_9X",
        "colab_type": "code",
        "colab": {}
      },
      "source": [
        "tab1 = np.array([[1,2,3],[4,5,6]])\n",
        "tab2 = np.array([[7,8,9]])\n",
        "print(tab1.shape)\n",
        "zeros = np.zeros((tab1.shape), dtype=int) \n",
        "tab2 = zeros + tab2\n",
        "print(tab2)\n",
        "print(tab1+tab2)\n",
        "print(tab1[1,::-1])"
      ],
      "execution_count": 0,
      "outputs": []
    },
    {
      "cell_type": "markdown",
      "metadata": {
        "id": "pJn1hqrgKan9",
        "colab_type": "text"
      },
      "source": [
        "**EXERCICES**"
      ]
    },
    {
      "cell_type": "code",
      "metadata": {
        "id": "a7fJyIbwKOkJ",
        "colab_type": "code",
        "outputId": "bf00472e-5f7f-4ca9-d5d3-10815c67cb0e",
        "colab": {
          "base_uri": "https://localhost:8080/",
          "height": 34
        }
      },
      "source": [
        "a=np.zeros(10)\n",
        "a"
      ],
      "execution_count": 0,
      "outputs": [
        {
          "output_type": "execute_result",
          "data": {
            "text/plain": [
              "array([0., 0., 0., 0., 0., 0., 0., 0., 0., 0.])"
            ]
          },
          "metadata": {
            "tags": []
          },
          "execution_count": 66
        }
      ]
    },
    {
      "cell_type": "code",
      "metadata": {
        "id": "DEahcsBNKgW0",
        "colab_type": "code",
        "outputId": "33ffb641-f10a-4dd8-e5ec-ee73465d646e",
        "colab": {
          "base_uri": "https://localhost:8080/",
          "height": 34
        }
      },
      "source": [
        "b=np.ones(10)\n",
        "b"
      ],
      "execution_count": 0,
      "outputs": [
        {
          "output_type": "execute_result",
          "data": {
            "text/plain": [
              "array([1., 1., 1., 1., 1., 1., 1., 1., 1., 1.])"
            ]
          },
          "metadata": {
            "tags": []
          },
          "execution_count": 67
        }
      ]
    },
    {
      "cell_type": "code",
      "metadata": {
        "id": "w5dQWLYTKnum",
        "colab_type": "code",
        "outputId": "15fc3b9a-53dc-42eb-8395-4fd95b81bcb4",
        "colab": {
          "base_uri": "https://localhost:8080/",
          "height": 34
        }
      },
      "source": [
        "c= np.ones(10)*5\n",
        "c"
      ],
      "execution_count": 0,
      "outputs": [
        {
          "output_type": "execute_result",
          "data": {
            "text/plain": [
              "array([5., 5., 5., 5., 5., 5., 5., 5., 5., 5.])"
            ]
          },
          "metadata": {
            "tags": []
          },
          "execution_count": 68
        }
      ]
    },
    {
      "cell_type": "code",
      "metadata": {
        "id": "mF4V1490K6Yk",
        "colab_type": "code",
        "outputId": "d7d77ad0-0067-4926-81b9-e0dc41bc0a05",
        "colab": {
          "base_uri": "https://localhost:8080/",
          "height": 68
        }
      },
      "source": [
        "d=np.arange(10,51,dtype=int)\n",
        "d"
      ],
      "execution_count": 0,
      "outputs": [
        {
          "output_type": "execute_result",
          "data": {
            "text/plain": [
              "array([10, 11, 12, 13, 14, 15, 16, 17, 18, 19, 20, 21, 22, 23, 24, 25, 26,\n",
              "       27, 28, 29, 30, 31, 32, 33, 34, 35, 36, 37, 38, 39, 40, 41, 42, 43,\n",
              "       44, 45, 46, 47, 48, 49, 50])"
            ]
          },
          "metadata": {
            "tags": []
          },
          "execution_count": 71
        }
      ]
    },
    {
      "cell_type": "code",
      "metadata": {
        "id": "UrMV36I3LPfe",
        "colab_type": "code",
        "outputId": "1334ee30-4b6d-45c3-8755-1591decdf5e5",
        "colab": {
          "base_uri": "https://localhost:8080/",
          "height": 51
        }
      },
      "source": [
        "e=np.arange(10,51,2, dtype=int)\n",
        "e"
      ],
      "execution_count": 0,
      "outputs": [
        {
          "output_type": "execute_result",
          "data": {
            "text/plain": [
              "array([10, 12, 14, 16, 18, 20, 22, 24, 26, 28, 30, 32, 34, 36, 38, 40, 42,\n",
              "       44, 46, 48, 50])"
            ]
          },
          "metadata": {
            "tags": []
          },
          "execution_count": 73
        }
      ]
    },
    {
      "cell_type": "code",
      "metadata": {
        "id": "L5BEe97dLn1P",
        "colab_type": "code",
        "outputId": "a0d648cf-3b18-4f28-cfa1-76b46580373c",
        "colab": {
          "base_uri": "https://localhost:8080/",
          "height": 68
        }
      },
      "source": [
        "f=np.arange(9).reshape(3,3)\n",
        "f"
      ],
      "execution_count": 0,
      "outputs": [
        {
          "output_type": "execute_result",
          "data": {
            "text/plain": [
              "array([[0, 1, 2],\n",
              "       [3, 4, 5],\n",
              "       [6, 7, 8]])"
            ]
          },
          "metadata": {
            "tags": []
          },
          "execution_count": 75
        }
      ]
    },
    {
      "cell_type": "code",
      "metadata": {
        "id": "yP_0pIDJMKSP",
        "colab_type": "code",
        "outputId": "89692cf9-446a-4415-cbac-f26ad2b3437c",
        "colab": {
          "base_uri": "https://localhost:8080/",
          "height": 68
        }
      },
      "source": [
        "np.eye(3)"
      ],
      "execution_count": 0,
      "outputs": [
        {
          "output_type": "execute_result",
          "data": {
            "text/plain": [
              "array([[1., 0., 0.],\n",
              "       [0., 1., 0.],\n",
              "       [0., 0., 1.]])"
            ]
          },
          "metadata": {
            "tags": []
          },
          "execution_count": 77
        }
      ]
    },
    {
      "cell_type": "code",
      "metadata": {
        "id": "4IHF5ksHMgX1",
        "colab_type": "code",
        "outputId": "ed9c5baa-536b-40bd-ae8c-2ff94cf363c7",
        "colab": {
          "base_uri": "https://localhost:8080/",
          "height": 102
        }
      },
      "source": [
        "np.random.randn(1,25)"
      ],
      "execution_count": 0,
      "outputs": [
        {
          "output_type": "execute_result",
          "data": {
            "text/plain": [
              "array([[-0.5310795 , -0.48281902,  1.00613449,  1.53622431, -1.39332896,\n",
              "        -1.4126402 ,  0.61892985,  0.31230619, -0.26282784,  0.73699419,\n",
              "        -0.97507841, -1.37150826,  0.43886389, -0.06500246, -0.28561892,\n",
              "         0.42963301, -0.19493607,  0.2739154 ,  1.50274692,  0.3274144 ,\n",
              "        -0.46126391, -0.82091212, -1.14279058, -2.29063871,  0.34853499]])"
            ]
          },
          "metadata": {
            "tags": []
          },
          "execution_count": 82
        }
      ]
    },
    {
      "cell_type": "code",
      "metadata": {
        "id": "Zv2aIMU5NvRF",
        "colab_type": "code",
        "outputId": "020c5589-ec56-4f9b-8a29-5ed8e73d7106",
        "colab": {
          "base_uri": "https://localhost:8080/",
          "height": 357
        }
      },
      "source": [
        "np.arange(100).reshape(10,10)/100\n",
        "np.linspace(0.1,1,100).reshape(10,10)"
      ],
      "execution_count": 0,
      "outputs": [
        {
          "output_type": "execute_result",
          "data": {
            "text/plain": [
              "array([[0.1       , 0.10909091, 0.11818182, 0.12727273, 0.13636364,\n",
              "        0.14545455, 0.15454545, 0.16363636, 0.17272727, 0.18181818],\n",
              "       [0.19090909, 0.2       , 0.20909091, 0.21818182, 0.22727273,\n",
              "        0.23636364, 0.24545455, 0.25454545, 0.26363636, 0.27272727],\n",
              "       [0.28181818, 0.29090909, 0.3       , 0.30909091, 0.31818182,\n",
              "        0.32727273, 0.33636364, 0.34545455, 0.35454545, 0.36363636],\n",
              "       [0.37272727, 0.38181818, 0.39090909, 0.4       , 0.40909091,\n",
              "        0.41818182, 0.42727273, 0.43636364, 0.44545455, 0.45454545],\n",
              "       [0.46363636, 0.47272727, 0.48181818, 0.49090909, 0.5       ,\n",
              "        0.50909091, 0.51818182, 0.52727273, 0.53636364, 0.54545455],\n",
              "       [0.55454545, 0.56363636, 0.57272727, 0.58181818, 0.59090909,\n",
              "        0.6       , 0.60909091, 0.61818182, 0.62727273, 0.63636364],\n",
              "       [0.64545455, 0.65454545, 0.66363636, 0.67272727, 0.68181818,\n",
              "        0.69090909, 0.7       , 0.70909091, 0.71818182, 0.72727273],\n",
              "       [0.73636364, 0.74545455, 0.75454545, 0.76363636, 0.77272727,\n",
              "        0.78181818, 0.79090909, 0.8       , 0.80909091, 0.81818182],\n",
              "       [0.82727273, 0.83636364, 0.84545455, 0.85454545, 0.86363636,\n",
              "        0.87272727, 0.88181818, 0.89090909, 0.9       , 0.90909091],\n",
              "       [0.91818182, 0.92727273, 0.93636364, 0.94545455, 0.95454545,\n",
              "        0.96363636, 0.97272727, 0.98181818, 0.99090909, 1.        ]])"
            ]
          },
          "metadata": {
            "tags": []
          },
          "execution_count": 86
        }
      ]
    },
    {
      "cell_type": "code",
      "metadata": {
        "id": "r6vABIVlOQ4z",
        "colab_type": "code",
        "outputId": "b37e8444-45a4-44be-92a0-c2901dcd7f04",
        "colab": {
          "base_uri": "https://localhost:8080/",
          "height": 85
        }
      },
      "source": [
        "np.linspace(0,1,20)"
      ],
      "execution_count": 0,
      "outputs": [
        {
          "output_type": "execute_result",
          "data": {
            "text/plain": [
              "array([0.        , 0.05263158, 0.10526316, 0.15789474, 0.21052632,\n",
              "       0.26315789, 0.31578947, 0.36842105, 0.42105263, 0.47368421,\n",
              "       0.52631579, 0.57894737, 0.63157895, 0.68421053, 0.73684211,\n",
              "       0.78947368, 0.84210526, 0.89473684, 0.94736842, 1.        ])"
            ]
          },
          "metadata": {
            "tags": []
          },
          "execution_count": 87
        }
      ]
    },
    {
      "cell_type": "code",
      "metadata": {
        "id": "aEWFzJj7PEH9",
        "colab_type": "code",
        "outputId": "d87cfdca-7b6b-41d8-af47-975e339bb09a",
        "colab": {
          "base_uri": "https://localhost:8080/",
          "height": 34
        }
      },
      "source": [
        "mat=np.arange(1,26).reshape(5,5)\n",
        "mat[2:,1:]\n",
        "mat[3,4]"
      ],
      "execution_count": 0,
      "outputs": [
        {
          "output_type": "execute_result",
          "data": {
            "text/plain": [
              "20"
            ]
          },
          "metadata": {
            "tags": []
          },
          "execution_count": 10
        }
      ]
    },
    {
      "cell_type": "code",
      "metadata": {
        "id": "u8wf7ZNaQd7_",
        "colab_type": "code",
        "outputId": "a7bd1385-2e47-4cbb-96f2-fd64c97ce02c",
        "colab": {
          "base_uri": "https://localhost:8080/",
          "height": 68
        }
      },
      "source": [
        "mat[0:3,1:2]"
      ],
      "execution_count": 0,
      "outputs": [
        {
          "output_type": "execute_result",
          "data": {
            "text/plain": [
              "array([[ 2],\n",
              "       [ 7],\n",
              "       [12]])"
            ]
          },
          "metadata": {
            "tags": []
          },
          "execution_count": 104
        }
      ]
    },
    {
      "cell_type": "code",
      "metadata": {
        "id": "LuQUMDNlRgmi",
        "colab_type": "code",
        "outputId": "db0ffa7a-acaa-46e6-b43b-4234446dd304",
        "colab": {
          "base_uri": "https://localhost:8080/",
          "height": 34
        }
      },
      "source": [
        "mat[-1]"
      ],
      "execution_count": 0,
      "outputs": [
        {
          "output_type": "execute_result",
          "data": {
            "text/plain": [
              "array([21, 22, 23, 24, 25])"
            ]
          },
          "metadata": {
            "tags": []
          },
          "execution_count": 106
        }
      ]
    },
    {
      "cell_type": "code",
      "metadata": {
        "id": "3isdOE_qRv8u",
        "colab_type": "code",
        "outputId": "e6179a9f-e906-4895-9873-3adef683e37f",
        "colab": {
          "base_uri": "https://localhost:8080/",
          "height": 51
        }
      },
      "source": [
        "mat[3:,:]"
      ],
      "execution_count": 0,
      "outputs": [
        {
          "output_type": "execute_result",
          "data": {
            "text/plain": [
              "array([[16, 17, 18, 19, 20],\n",
              "       [21, 22, 23, 24, 25]])"
            ]
          },
          "metadata": {
            "tags": []
          },
          "execution_count": 118
        }
      ]
    },
    {
      "cell_type": "code",
      "metadata": {
        "id": "-4t6KdbYSk4e",
        "colab_type": "code",
        "outputId": "853bb09c-1730-4b53-917f-6cb305c8917e",
        "colab": {
          "base_uri": "https://localhost:8080/",
          "height": 34
        }
      },
      "source": [
        "mat.sum()"
      ],
      "execution_count": 0,
      "outputs": [
        {
          "output_type": "execute_result",
          "data": {
            "text/plain": [
              "325"
            ]
          },
          "metadata": {
            "tags": []
          },
          "execution_count": 120
        }
      ]
    },
    {
      "cell_type": "code",
      "metadata": {
        "id": "fXq9sG_3Tc7l",
        "colab_type": "code",
        "outputId": "eba95759-05c2-4ec8-e572-ba8dadbd84f6",
        "colab": {
          "base_uri": "https://localhost:8080/",
          "height": 34
        }
      },
      "source": [
        "mat.min()"
      ],
      "execution_count": 0,
      "outputs": [
        {
          "output_type": "execute_result",
          "data": {
            "text/plain": [
              "1"
            ]
          },
          "metadata": {
            "tags": []
          },
          "execution_count": 122
        }
      ]
    },
    {
      "cell_type": "code",
      "metadata": {
        "id": "xFe5u_xETmB3",
        "colab_type": "code",
        "outputId": "6913903a-0995-418d-c89c-4bd8d241aa9e",
        "colab": {
          "base_uri": "https://localhost:8080/",
          "height": 51
        }
      },
      "source": [
        "np.full((2,4), 23)"
      ],
      "execution_count": 0,
      "outputs": [
        {
          "output_type": "execute_result",
          "data": {
            "text/plain": [
              "array([[23, 23, 23, 23],\n",
              "       [23, 23, 23, 23]])"
            ]
          },
          "metadata": {
            "tags": []
          },
          "execution_count": 123
        }
      ]
    },
    {
      "cell_type": "code",
      "metadata": {
        "id": "momvm4gFVTtu",
        "colab_type": "code",
        "outputId": "aa3ecc86-69fb-4b81-afdc-572cade775db",
        "colab": {
          "base_uri": "https://localhost:8080/",
          "height": 68
        }
      },
      "source": [
        "mat = np.array([[1,2,3],[4,5,6],[7,8,9]])\n",
        "np.rot90(mat)\n",
        "np.rot90(mat, -1)"
      ],
      "execution_count": 0,
      "outputs": [
        {
          "output_type": "execute_result",
          "data": {
            "text/plain": [
              "array([[7, 4, 1],\n",
              "       [8, 5, 2],\n",
              "       [9, 6, 3]])"
            ]
          },
          "metadata": {
            "tags": []
          },
          "execution_count": 133
        }
      ]
    },
    {
      "cell_type": "code",
      "metadata": {
        "id": "vWg7XeMmYhsu",
        "colab_type": "code",
        "outputId": "be92ac9b-9cf9-440d-fd90-baea309db361",
        "colab": {
          "base_uri": "https://localhost:8080/",
          "height": 68
        }
      },
      "source": [
        "np.diag(np.array([3,3,3]))"
      ],
      "execution_count": 0,
      "outputs": [
        {
          "output_type": "execute_result",
          "data": {
            "text/plain": [
              "array([[3, 0, 0],\n",
              "       [0, 3, 0],\n",
              "       [0, 0, 3]])"
            ]
          },
          "metadata": {
            "tags": []
          },
          "execution_count": 134
        }
      ]
    },
    {
      "cell_type": "code",
      "metadata": {
        "id": "UfFCzaiMYzVY",
        "colab_type": "code",
        "outputId": "24e72d2d-5d26-43ef-d221-041f21f41320",
        "colab": {
          "base_uri": "https://localhost:8080/",
          "height": 34
        }
      },
      "source": [
        "np.diag(mat)"
      ],
      "execution_count": 0,
      "outputs": [
        {
          "output_type": "execute_result",
          "data": {
            "text/plain": [
              "array([1, 5, 9])"
            ]
          },
          "metadata": {
            "tags": []
          },
          "execution_count": 135
        }
      ]
    },
    {
      "cell_type": "markdown",
      "metadata": {
        "id": "PUkLyKsYqhzZ",
        "colab_type": "text"
      },
      "source": [
        "EXERCICES II"
      ]
    },
    {
      "cell_type": "code",
      "metadata": {
        "id": "hZ-ngk_spJlM",
        "colab_type": "code",
        "colab": {}
      },
      "source": [
        "#Question 1: Create a 4X2 integer array and Prints its attributes\n",
        "ar = np.arange(1,9).reshape(4,2)\n",
        "print(ar)\n",
        "ar.ndim\n",
        "ar.dtype\n",
        "ar.size\n",
        "ar.itemsize\n",
        "np.linspace(1,8,8,dtype=int).reshape(4,2)"
      ],
      "execution_count": 0,
      "outputs": []
    },
    {
      "cell_type": "code",
      "metadata": {
        "id": "fPv6tIE3qnZ1",
        "colab_type": "code",
        "colab": {}
      },
      "source": [
        "#Question 2: Create a 5X2 integer array from a range between 100 to 200 such that the difference between each element is 10\n",
        "ar = np.arange(100,200,10).reshape(5,2)\n",
        "ar2 = np.linspace(100,190,10,dtype=int).reshape(5,2)\n",
        "print(ar)\n",
        "print(ar2)"
      ],
      "execution_count": 0,
      "outputs": []
    },
    {
      "cell_type": "code",
      "metadata": {
        "id": "-Wcq6-hwrsKX",
        "colab_type": "code",
        "outputId": "200d275f-66bb-4b15-bd73-68d89c66dd39",
        "colab": {
          "base_uri": "https://localhost:8080/",
          "height": 34
        }
      },
      "source": [
        "#Question 3: Following is the provided numPy array. return array of items in the third column from all rows\n",
        "sampleArray = np.array([[11 ,22, 33], [44, 55, 66], [77, 88, 99]])\n",
        "sampleArray[:,2]"
      ],
      "execution_count": 0,
      "outputs": [
        {
          "output_type": "execute_result",
          "data": {
            "text/plain": [
              "array([33, 66, 99])"
            ]
          },
          "metadata": {
            "tags": []
          },
          "execution_count": 30
        }
      ]
    },
    {
      "cell_type": "code",
      "metadata": {
        "id": "MrqiNhaIsJKg",
        "colab_type": "code",
        "colab": {}
      },
      "source": [
        "#Question 4: Following is the given numpy array return array of odd rows and even columns\n",
        "sampleArray = np.array([[3 ,6, 9, 12], [15 ,18, 21, 24], \n",
        "[27 ,30, 33, 36], [39 ,42, 45, 48], [51 ,54, 57, 60]])\n",
        "sampleArray[::2,1::2]"
      ],
      "execution_count": 0,
      "outputs": []
    },
    {
      "cell_type": "code",
      "metadata": {
        "id": "AAn8cG8utZ06",
        "colab_type": "code",
        "colab": {}
      },
      "source": [
        "#Question 5: Add the following two NumPy arrays and Modify a result array by calculating the square of each element\n",
        "arrayOne = np.array([[5, 6, 9], [21 ,18, 27]])\n",
        "arrayTwo = np.array([[15 ,33, 24], [4 ,7, 1]])\n",
        "arryResult = arrayOne + arrayTwo\n",
        "print(np.square(arryResult))\n",
        "arryResult*arryResult"
      ],
      "execution_count": 0,
      "outputs": []
    },
    {
      "cell_type": "code",
      "metadata": {
        "id": "seRXN8z3uFm8",
        "colab_type": "code",
        "colab": {}
      },
      "source": [
        "#Question 6: Split the array into four equal-sized sub-arrays\n",
        "#Create an 8X3 integer array from a range between 10 to 34 such \n",
        "#that the difference between each element is 1 and then Split the array into four equal-sized sub-arrays.\n",
        "ar = np.arange(10,34).reshape(8,3)\n",
        "re = np.split(ar,4)\n",
        "re"
      ],
      "execution_count": 0,
      "outputs": []
    },
    {
      "cell_type": "code",
      "metadata": {
        "id": "vaYZ7qKH9mA7",
        "colab_type": "code",
        "colab": {}
      },
      "source": [
        "#Question 7; Sort following NumPy array\n",
        "#7.1- by the second row and\n",
        "#7.2-by the second column\n",
        "sampleArray = np.array([[34,43,73],[82,22,12],[53,94,66]])\n",
        "re = sampleArray.sort(axis=1)\n",
        "sampleArray"
      ],
      "execution_count": 0,
      "outputs": []
    },
    {
      "cell_type": "code",
      "metadata": {
        "id": "GQ6OCBtH_AB5",
        "colab_type": "code",
        "outputId": "ed2967e9-6152-4245-917c-f0afdd737b94",
        "colab": {
          "base_uri": "https://localhost:8080/",
          "height": 34
        }
      },
      "source": [
        "#Question 8: Following is the 2-D array. Print max from axis 0 and min from axis 1\n",
        "sampleArray = np.array([[34,43,73],[82,22,12],[53,94,66]])\n",
        "np.amin(sampleArray, 1)\n",
        "np.amax(sampleArray, 0)\n",
        "np.em"
      ],
      "execution_count": 0,
      "outputs": [
        {
          "output_type": "execute_result",
          "data": {
            "text/plain": [
              "array([82, 94, 73])"
            ]
          },
          "metadata": {
            "tags": []
          },
          "execution_count": 53
        }
      ]
    },
    {
      "cell_type": "code",
      "metadata": {
        "id": "BSbk5wiOuQ0E",
        "colab_type": "code",
        "outputId": "13bef8e9-3a8f-4fa7-e5e1-ac6d7ae2e19c",
        "colab": {
          "base_uri": "https://localhost:8080/",
          "height": 34
        }
      },
      "source": [
        "#Question 1: Create a 4X2 integer array and Prints its attributes\n",
        "#Question 2: Create a 5X2 integer array from a range between 100 to 200 such that the difference between each element is 10\n",
        "#Question 3: Following is the provided numPy array. return array of items in the third column from all rows\n",
        "sampleArray = np.array([[11 ,22, 33], [44, 55, 66], [77, 88, 99]])\n",
        "#Question 4: Following is the given numpy array return array of odd rows and even columns\n",
        "sampleArray = np.array([[3 ,6, 9, 12], [15 ,18, 21, 24], \n",
        "[27 ,30, 33, 36], [39 ,42, 45, 48], [51 ,54, 57, 60]])\n",
        "#Question 5: Add the following two NumPy arrays and Modify a result array by calculating the square of each element\n",
        "arrayOne = np.array([[5, 6, 9], [21 ,18, 27]])\n",
        "arrayTwo = np.array([[15 ,33, 24], [4 ,7, 1]])\n",
        "#Question 6: Split the array into four equal-sized sub-arrays\n",
        "#Create an 8X3 integer array from a range between 10 to 34 such \n",
        "#that the difference between each element is 1 and then Split the array into four equal-sized sub-arrays.\n",
        "#Question 7; Sort following NumPy array\n",
        "#7.1- by the second row and\n",
        "#7.2-by the second column\n",
        "sampleArray = np.array([[34,43,73],[82,22,12],[53,94,66]])\n",
        "#Question 8: Following is the 2-D array. Print max from axis 0 and min from axis 1\n",
        "sampleArray = np.array([[34,43,73],[82,22,12],[53,94,66]])"
      ],
      "execution_count": 0,
      "outputs": [
        {
          "output_type": "stream",
          "text": [
            "[ 3 18 33 48]\n"
          ],
          "name": "stdout"
        }
      ]
    }
  ]
}