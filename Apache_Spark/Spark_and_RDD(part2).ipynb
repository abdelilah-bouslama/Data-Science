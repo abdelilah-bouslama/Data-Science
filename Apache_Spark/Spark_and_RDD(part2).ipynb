{
  "nbformat": 4,
  "nbformat_minor": 0,
  "metadata": {
    "colab": {
      "name": "Spark-and-RDD(part2).ipynb",
      "provenance": [],
      "authorship_tag": "ABX9TyMMMerhluqskMtAvT6cNLnE",
      "include_colab_link": true
    },
    "kernelspec": {
      "name": "python3",
      "display_name": "Python 3"
    }
  },
  "cells": [
    {
      "cell_type": "markdown",
      "metadata": {
        "id": "view-in-github",
        "colab_type": "text"
      },
      "source": [
        "<a href=\"https://colab.research.google.com/github/abdelilah-bouslama/Data-Science/blob/master/Apache_Spark/Spark_and_RDD(part2).ipynb\" target=\"_parent\"><img src=\"https://colab.research.google.com/assets/colab-badge.svg\" alt=\"Open In Colab\"/></a>"
      ]
    },
    {
      "cell_type": "markdown",
      "metadata": {
        "id": "rkFs3vujox5h",
        "colab_type": "text"
      },
      "source": [
        "Tutorial from : https://www.youtube.com/watch?v=PIa_-aMHYrg&list=PLe1T0uBrDrfMZiiIPqupk-I1Gvn61bLvW"
      ]
    },
    {
      "cell_type": "code",
      "metadata": {
        "id": "m5QRhesuoojK",
        "colab_type": "code",
        "colab": {}
      },
      "source": [
        "# INSTALLING SPARK\n",
        "!apt-get install openjdk-8-jdk-headless -qq > /dev/null\n",
        "!wget -q https://downloads.apache.org/spark/spark-2.4.5/spark-2.4.5-bin-hadoop2.7.tgz\n",
        "!tar xf spark-2.4.5-bin-hadoop2.7.tgz\n",
        "!pip install -q findspark"
      ],
      "execution_count": 0,
      "outputs": []
    },
    {
      "cell_type": "code",
      "metadata": {
        "id": "0emC9v6yvSRQ",
        "colab_type": "code",
        "colab": {}
      },
      "source": [
        "#DEFINING SYSTEM VARIABLES\n",
        "import os\n",
        "os.environ[\"JAVA_HOME\"] = \"/usr/lib/jvm/java-8-openjdk-amd64\"\n",
        "os.environ[\"SPARK_HOME\"] = \"/content/spark-2.4.5-bin-hadoop2.7\""
      ],
      "execution_count": 0,
      "outputs": []
    },
    {
      "cell_type": "code",
      "metadata": {
        "id": "9mNa2fNWvUSF",
        "colab_type": "code",
        "colab": {}
      },
      "source": [
        "import findspark\n",
        "findspark.init()\n",
        "from pyspark.sql import SparkSession\n",
        "spark = SparkSession.builder.master(\"local[*]\").getOrCreate()"
      ],
      "execution_count": 0,
      "outputs": []
    },
    {
      "cell_type": "markdown",
      "metadata": {
        "id": "gUbuohaygZXN",
        "colab_type": "text"
      },
      "source": [
        "# **EXAMPLE 1: MapPartitions RDD**"
      ]
    },
    {
      "cell_type": "code",
      "metadata": {
        "id": "G_mOPDDlvzMQ",
        "colab_type": "code",
        "colab": {}
      },
      "source": [
        "liste = [1,2,1,1,2,1,1,2,1]\n",
        "rdd = spark.sparkContext.parallelize(liste,3)\n",
        "rdd.getNumPartitions()\n",
        "result = rdd.mapPartitions(lambda partition: [sum(partition)]) \\\n",
        "    .collect()\n",
        "result"
      ],
      "execution_count": 0,
      "outputs": []
    },
    {
      "cell_type": "markdown",
      "metadata": {
        "colab_type": "text",
        "id": "E6S_S0_y4fV7"
      },
      "source": [
        "# **EXAMPLE 2: MapPartitionsWithIndex RDD**"
      ]
    },
    {
      "cell_type": "code",
      "metadata": {
        "id": "2HmwKK534koj",
        "colab_type": "code",
        "colab": {
          "base_uri": "https://localhost:8080/",
          "height": 34
        },
        "outputId": "dbbb1063-4454-4380-9680-e6f934b211d5"
      },
      "source": [
        "rdd = spark.sparkContext.parallelize(liste,3)\n",
        "result = rdd.mapPartitionsWithIndex(lambda index, partition, : [(index, sum(partition))]).collect()\n",
        "result"
      ],
      "execution_count": 16,
      "outputs": [
        {
          "output_type": "execute_result",
          "data": {
            "text/plain": [
              "[(0, 4), (1, 4), (2, 4)]"
            ]
          },
          "metadata": {
            "tags": []
          },
          "execution_count": 16
        }
      ]
    }
  ]
}