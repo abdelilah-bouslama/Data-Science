{
  "nbformat": 4,
  "nbformat_minor": 0,
  "metadata": {
    "colab": {
      "name": "pratice.ipynb",
      "provenance": [],
      "collapsed_sections": [],
      "mount_file_id": "1MfmpcxQwYSnajVNXszzzVtFXbC7MNLwp",
      "authorship_tag": "ABX9TyMag37we2iqgVEarO3tAqLH",
      "include_colab_link": true
    },
    "kernelspec": {
      "name": "python3",
      "display_name": "Python 3"
    }
  },
  "cells": [
    {
      "cell_type": "markdown",
      "metadata": {
        "id": "view-in-github",
        "colab_type": "text"
      },
      "source": [
        "<a href=\"https://colab.research.google.com/github/abdelilah-bouslama/Data-Science/blob/master/Apache_Spark/cca175/RDD.ipynb\" target=\"_parent\"><img src=\"https://colab.research.google.com/assets/colab-badge.svg\" alt=\"Open In Colab\"/></a>"
      ]
    },
    {
      "cell_type": "code",
      "metadata": {
        "id": "LrzTpgtS_Wr5",
        "colab_type": "code",
        "colab": {}
      },
      "source": [
        "!apt-get install openjdk-8-jdk-headless -qq > /dev/null"
      ],
      "execution_count": 0,
      "outputs": []
    },
    {
      "cell_type": "code",
      "metadata": {
        "id": "oGH4z1gAAMXl",
        "colab_type": "code",
        "colab": {}
      },
      "source": [
        "!wget -q https://downloads.apache.org/spark/spark-2.4.5/spark-2.4.5-bin-hadoop2.7.tgz"
      ],
      "execution_count": 0,
      "outputs": []
    },
    {
      "cell_type": "code",
      "metadata": {
        "id": "zhl0KJvwBgTQ",
        "colab_type": "code",
        "colab": {}
      },
      "source": [
        "!tar xf spark-2.4.5-bin-hadoop2.7.tgz"
      ],
      "execution_count": 0,
      "outputs": []
    },
    {
      "cell_type": "code",
      "metadata": {
        "id": "exr8-dwqAdXs",
        "colab_type": "code",
        "colab": {}
      },
      "source": [
        "!pip install -q findspark"
      ],
      "execution_count": 0,
      "outputs": []
    },
    {
      "cell_type": "code",
      "metadata": {
        "id": "kCrBGEDiAsmk",
        "colab_type": "code",
        "colab": {}
      },
      "source": [
        "import os\n",
        "os.environ[\"JAVA_HOME\"] = \"/usr/lib/jvm/java-8-openjdk-amd64\"\n",
        "os.environ[\"SPARK_HOME\"] = \"/content/spark-2.4.5-bin-hadoop2.7\""
      ],
      "execution_count": 0,
      "outputs": []
    },
    {
      "cell_type": "code",
      "metadata": {
        "id": "-prfYmz-AygV",
        "colab_type": "code",
        "colab": {}
      },
      "source": [
        "import findspark\n",
        "findspark.init()\n",
        "from pyspark.sql import SparkSession\n",
        "spark = SparkSession.builder.master(\"local[*]\").getOrCreate()\n",
        "sc = spark.sparkContext"
      ],
      "execution_count": 0,
      "outputs": []
    },
    {
      "cell_type": "markdown",
      "metadata": {
        "id": "yQgtpsewJdca",
        "colab_type": "text"
      },
      "source": [
        "# **Loading Data**"
      ]
    },
    {
      "cell_type": "code",
      "metadata": {
        "id": "7aC5UP-dhJDf",
        "colab_type": "code",
        "colab": {}
      },
      "source": [
        "ordersRdd = sc.textFile(\"/content/drive/My Drive/BIG DATA/pyspark/CCA-175/dataset/retail_db/orders/part-00000\")"
      ],
      "execution_count": 0,
      "outputs": []
    },
    {
      "cell_type": "code",
      "metadata": {
        "id": "wq_NLzxAfKBR",
        "colab_type": "code",
        "colab": {}
      },
      "source": [
        "orderItemsRdd = sc.textFile(\"/content/drive/My Drive/BIG DATA/pyspark/CCA-175/dataset/retail_db/order_items/part-00000\") "
      ],
      "execution_count": 0,
      "outputs": []
    },
    {
      "cell_type": "code",
      "metadata": {
        "id": "6bhzmvHxZlPl",
        "colab_type": "code",
        "colab": {}
      },
      "source": [
        "productsRdd = sc.textFile(\"/content/drive/My Drive/BIG DATA/pyspark/CCA-175/dataset/retail_db/products/part-00000\")"
      ],
      "execution_count": 0,
      "outputs": []
    },
    {
      "cell_type": "markdown",
      "metadata": {
        "id": "RbodIH-QhRTD",
        "colab_type": "text"
      },
      "source": [
        "# **Working on orders dataset**"
      ]
    },
    {
      "cell_type": "code",
      "metadata": {
        "id": "6Y4v5CPbh-St",
        "colab_type": "code",
        "colab": {}
      },
      "source": [
        "# Get order list of given status(CLOSED)\n",
        "orderPerStatus = ordersRdd.filter(lambda order: order.split(\",\")[3] == \"CLOSED\")\n",
        "for i in orderPerStatus.take(3) : print(i)"
      ],
      "execution_count": 0,
      "outputs": []
    },
    {
      "cell_type": "code",
      "metadata": {
        "id": "xOqphASflGz-",
        "colab_type": "code",
        "colab": {}
      },
      "source": [
        "# get Payed orders of given Year\n",
        "ordersPerYear = ordersRdd.filter(lambda order: order.split(\",\")[1].split(\"-\")[0] == \"2013\" and order.split(\",\")[3] == \"COMPLETE\")\n",
        "for i in ordersPerYear.take(3): print(i)"
      ],
      "execution_count": 0,
      "outputs": []
    },
    {
      "cell_type": "code",
      "metadata": {
        "id": "4nzIltB2lz60",
        "colab_type": "code",
        "colab": {}
      },
      "source": [
        "# get detail of PENDING orders in the last 5 days of each month\n",
        "pendingOrders = ordersRdd.filter(lambda order : order.split(\",\")[3] == \"PENDING_PAYMENT\")\\\n",
        "    .filter(lambda order : 25 >= int(order.split(\",\")[1].split(\"-\")[2].replace(\"00:00:00.0\", \"\")) <= 31)\\\n",
        "    .map(lambda order: (order.split(\",\")[1].split(\"-\")[1], order))\\\n",
        "    .groupByKey()\n",
        "for i in pendingOrders.take(3): print(i)"
      ],
      "execution_count": 0,
      "outputs": []
    },
    {
      "cell_type": "code",
      "metadata": {
        "id": "yZr19Jt8wmRZ",
        "colab_type": "code",
        "colab": {}
      },
      "source": [
        "ordersMap = ordersRdd.map(lambda order: (int(order.split(\",\")[2]), 1))\\\n",
        "  .reduceByKey(lambda x,y : x+y)\n",
        "for i in ordersMap.take(2): print(i)"
      ],
      "execution_count": 0,
      "outputs": []
    },
    {
      "cell_type": "code",
      "metadata": {
        "id": "B-EZtVUXf19I",
        "colab_type": "code",
        "colab": {}
      },
      "source": [
        "# Get revenue for orderId\n",
        "orderidRevenue = orderItemsRdd.filter(lambda orderItem : int(orderItem.split(\",\")[1]) == 2 and orderItem.split(\",\")[4] != \"\")\\\n",
        "    .map(lambda orderItem : float(orderItem.split(\",\")[4]))\\\n",
        "    .reduce(lambda x, y : x+y)\n",
        "orderidRevenue"
      ],
      "execution_count": 0,
      "outputs": []
    },
    {
      "cell_type": "code",
      "metadata": {
        "id": "7XuaTJy9lgqW",
        "colab_type": "code",
        "colab": {}
      },
      "source": [
        "#Get min subtotal of given orderId\n",
        "minOrderItemForOrder = orderItemsRdd.filter(lambda orderItem : int(orderItem.split(\",\")[1]) == 2 and orderItem.split(\",\")[4] != \"\")\\\n",
        "    .map(lambda orderItem : float(orderItem.split(\",\")[4]))\\\n",
        "    .reduce(lambda x,y : x if x < y  else  y)\n",
        "\n",
        "minOrderItemForOrder"
      ],
      "execution_count": 0,
      "outputs": []
    },
    {
      "cell_type": "code",
      "metadata": {
        "id": "swoK4N_4m2d_",
        "colab_type": "code",
        "colab": {}
      },
      "source": [
        "# Get max subtotal of each orderId\n",
        "maxOrderItemForOrder = orderItemsRdd.filter(lambda orderItem : orderItem.split(\",\")[4] != \"\")\\\n",
        "    .map(lambda orderItem : (int(orderItem.split(\",\")[1]),float(orderItem.split(\",\")[4])))\\\n",
        "    .reduceByKey(lambda x,y : x if x > y  else  y)\n",
        "    \n",
        "for i in maxOrderItemForOrder.take(5): print(i)"
      ],
      "execution_count": 0,
      "outputs": []
    },
    {
      "cell_type": "code",
      "metadata": {
        "id": "C4NxvEPD6pdO",
        "colab_type": "code",
        "colab": {}
      },
      "source": [
        "orderMap = ordersRdd.map(lambda order : (order.split(\",\")[3], 1))\\\n",
        "    .reduceByKey(lambda x, y : x+y)\n",
        "for i in orderMap.take(10): print(i)"
      ],
      "execution_count": 0,
      "outputs": []
    },
    {
      "cell_type": "code",
      "metadata": {
        "id": "g3MNPHGF_u3K",
        "colab_type": "code",
        "colab": {}
      },
      "source": [
        "#Get order items sorted by order_item_subtotal for each orderId\n",
        "orderItemsMap = orderItemsRdd.filter(lambda orderItem : orderItem.split(\",\")[4] != \"\")\\\n",
        "    .map(lambda orderItemFilter : (int(orderItemFilter.split(\",\")[1]), orderItemFilter))\\\n",
        "    .groupByKey()\\\n",
        "    .map(lambda orderSubTotals : (orderSubTotals[0], sorted(orderSubTotals[1], key= lambda x :  float(x.split(\",\")[4]), reverse=True)))\n",
        "for i in orderItemsMap.take(3): print(i)"
      ],
      "execution_count": 0,
      "outputs": []
    },
    {
      "cell_type": "code",
      "metadata": {
        "id": "Sp9sdqyJGQ6Q",
        "colab_type": "code",
        "colab": {}
      },
      "source": [
        "#Get revenue for each order Id using groupByKey\n",
        "orderItemMap = orderItemsRdd.map(lambda orderItem: (int(orderItem.split(\",\")[1]), float(orderItem.split(\",\")[4])))"
      ],
      "execution_count": 0,
      "outputs": []
    },
    {
      "cell_type": "code",
      "metadata": {
        "id": "soHZvxJdHNhh",
        "colab_type": "code",
        "outputId": "0fae6cb3-9fb5-4bce-f223-c847703e2ef4",
        "colab": {
          "base_uri": "https://localhost:8080/",
          "height": 68
        }
      },
      "source": [
        "for i in orderItemMap.take(3) : print (i)"
      ],
      "execution_count": 0,
      "outputs": [
        {
          "output_type": "stream",
          "text": [
            "(1, 299.98)\n",
            "(2, 199.99)\n",
            "(2, 250.0)\n"
          ],
          "name": "stdout"
        }
      ]
    },
    {
      "cell_type": "code",
      "metadata": {
        "id": "CgyLfKZlcsZH",
        "colab_type": "code",
        "outputId": "8f2709b7-95e9-4119-9a44-b685a9a0d34a",
        "colab": {
          "base_uri": "https://localhost:8080/",
          "height": 68
        }
      },
      "source": [
        "#Get avg and count of subtotal_orderItem for each order (orderId, (count, avg))\n",
        "orderItemAggregate = orderItemMap.aggregateByKey((0,0.0), seqFunc=lambda x,y: (x[0]+1, x[1] + y), combFunc=lambda x, y : (x[0]+y[0], (x[1] + y[1])/2))\\\n",
        "    .map(lambda orderItem : (orderItem[0], (orderItem[1][0], (orderItem[1][1]/orderItem[1][0]))))\n",
        "for i in orderItemAggregate.take(3):print(i)"
      ],
      "execution_count": 0,
      "outputs": [
        {
          "output_type": "stream",
          "text": [
            "(2, (3, 193.32666666666668))\n",
            "(4, (4, 174.9625))\n",
            "(8, (4, 182.45999999999998))\n"
          ],
          "name": "stdout"
        }
      ]
    },
    {
      "cell_type": "markdown",
      "metadata": {
        "colab_type": "text",
        "id": "2nGNiXhvhoCd"
      },
      "source": [
        "# **Working on products dataset**"
      ]
    },
    {
      "cell_type": "code",
      "metadata": {
        "id": "mGAOq9skfpiK",
        "colab_type": "code",
        "colab": {}
      },
      "source": [
        "#Get list products per category\n",
        "productsPerCategory = productsRdd\\\n",
        "    .filter(lambda product: product.split(\",\")[4] != \"\")\\\n",
        "    .map(lambda product: (int(product.split(\",\")[1]), int(product.split(',')[0])))\\\n",
        "    .groupByKey()"
      ],
      "execution_count": 0,
      "outputs": []
    },
    {
      "cell_type": "code",
      "metadata": {
        "id": "wpmhtND5fEF1",
        "colab_type": "code",
        "outputId": "2c85825d-3ada-4c9a-e9ab-d957c34da249",
        "colab": {
          "base_uri": "https://localhost:8080/",
          "height": 68
        }
      },
      "source": [
        "for i in productsPerCategory.take(3): print(i)"
      ],
      "execution_count": 0,
      "outputs": [
        {
          "output_type": "stream",
          "text": [
            "(2, <pyspark.resultiterable.ResultIterable object at 0x7f92fd6ea9e8>)\n",
            "(4, <pyspark.resultiterable.ResultIterable object at 0x7f92fd6ea8d0>)\n",
            "(6, <pyspark.resultiterable.ResultIterable object at 0x7f92fd6eaa58>)\n"
          ],
          "name": "stdout"
        }
      ]
    },
    {
      "cell_type": "code",
      "metadata": {
        "id": "yX46A7dtvLLU",
        "colab_type": "code",
        "colab": {}
      },
      "source": [
        "#Get detail of ordered products, sorted by number of orders per product\n",
        "productsRdd = sc.textFile(\"/content/drive/My Drive/BIG DATA/pyspark/CCA-175/dataset/retail_db/products/part-00000\")"
      ],
      "execution_count": 0,
      "outputs": []
    },
    {
      "cell_type": "code",
      "metadata": {
        "id": "JDLNtKUOvWY2",
        "colab_type": "code",
        "colab": {}
      },
      "source": [
        "productsMap = productsRdd.map(lambda product: (int(product.split(\",\")[0]), product))\n",
        "for i in productsMap.take(2): print(i)"
      ],
      "execution_count": 0,
      "outputs": []
    },
    {
      "cell_type": "code",
      "metadata": {
        "id": "PLxGlzPJbNqq",
        "colab_type": "code",
        "colab": {}
      },
      "source": [
        "productOrdersJoin = productsMap.join(ordersMap)\n",
        "for i in productOrdersJoin.take(3): print(i)"
      ],
      "execution_count": 0,
      "outputs": []
    },
    {
      "cell_type": "code",
      "metadata": {
        "id": "4HArePudbm1D",
        "colab_type": "code",
        "colab": {}
      },
      "source": [
        "coutProducts = productOrdersJoin.map(lambda product : (int(product[1][1]),  product[1][0]))\n",
        "for i in coutProducts.take(3): print(i)"
      ],
      "execution_count": 0,
      "outputs": []
    },
    {
      "cell_type": "code",
      "metadata": {
        "id": "k7WPYWYpcBzd",
        "colab_type": "code",
        "colab": {}
      },
      "source": [
        "countProductsSorted = coutProducts.sortByKey(ascending=False)\n",
        "for i in countProductsSorted.take(3): print(i)"
      ],
      "execution_count": 0,
      "outputs": []
    },
    {
      "cell_type": "code",
      "metadata": {
        "id": "qqTnMMKNjM_l",
        "colab_type": "code",
        "outputId": "a82aa341-7db2-4b3f-f6b5-23e0249261da",
        "colab": {
          "base_uri": "https://localhost:8080/",
          "height": 85
        }
      },
      "source": [
        "#Sort data by product price\n",
        "productMap = productsRdd.filter(lambda product: product.split(\",\")[4] != \"\")\\\n",
        "    .map(lambda product: (float(product.split(\",\")[4]), product))\\\n",
        "    .sortByKey(False)\n",
        "for i in productMap.take(4):print(i)"
      ],
      "execution_count": 0,
      "outputs": [
        {
          "output_type": "stream",
          "text": [
            "(1999.99, '208,10,SOLE E35 Elliptical,,1999.99,http://images.acmesports.sports/SOLE+E35+Elliptical')\n",
            "(1799.99, '66,4,SOLE F85 Treadmill,,1799.99,http://images.acmesports.sports/SOLE+F85+Treadmill')\n",
            "(1799.99, '199,10,SOLE F85 Treadmill,,1799.99,http://images.acmesports.sports/SOLE+F85+Treadmill')\n",
            "(1799.99, '496,22,SOLE F85 Treadmill,,1799.99,http://images.acmesports.sports/SOLE+F85+Treadmill')\n"
          ],
          "name": "stdout"
        }
      ]
    },
    {
      "cell_type": "code",
      "metadata": {
        "id": "AeYwWBCphBsp",
        "colab_type": "code",
        "outputId": "9d2ac25f-4b41-476a-9413-fc2dd97dd8bc",
        "colab": {
          "base_uri": "https://localhost:8080/",
          "height": 88
        }
      },
      "source": [
        "productMap = productsRdd.filter(lambda product: product.split(\",\")[4] != \"\")\\\n",
        "    .map(lambda product: (int(product.split(\",\")[1]), float(product.split(\",\")[4])))\\\n",
        "    .groupByKey()\\\n",
        "    .map(lambda product: (product[0], sorted(product[1], reverse=True)) )\\\n",
        "    .sortByKey()\n",
        "for i in productMap.take(3): print(i)"
      ],
      "execution_count": 0,
      "outputs": [
        {
          "output_type": "stream",
          "text": [
            "(2, [299.99, 209.99, 199.99, 199.99, 139.99, 139.99, 134.99, 129.99, 129.99, 129.99, 129.99, 129.99, 124.99, 99.99, 89.99, 89.99, 89.99, 79.99, 59.99, 59.98, 54.99, 50.0, 29.99, 29.97])\n",
            "(3, [199.99, 189.99, 159.99, 159.99, 149.99, 99.0, 90.0, 90.0, 90.0, 90.0, 90.0, 75.0, 59.99, 59.99, 59.98, 44.99, 39.99, 34.99, 29.99, 29.99, 28.0, 24.97, 21.99, 0.0])\n",
            "(4, [1799.99, 999.99, 349.98, 309.99, 299.99, 299.99, 299.98, 249.97, 209.99, 199.99, 179.97, 179.97, 159.99, 149.99, 99.95, 99.0, 79.99, 69.99, 59.98, 39.99, 29.99, 29.99, 28.0, 21.99])\n"
          ],
          "name": "stdout"
        }
      ]
    },
    {
      "cell_type": "code",
      "metadata": {
        "id": "1XpLqsi644Ru",
        "colab_type": "code",
        "outputId": "c2eea27b-900d-4585-8fa6-fb2e8dbb95c9",
        "colab": {
          "base_uri": "https://localhost:8080/",
          "height": 68
        }
      },
      "source": [
        "# Get Name of 3 top ordered products\n",
        "productsMap = productsRdd.filter(lambda product: product.split(\",\")[4] != \"\")\\\n",
        "    .map(lambda product : (int(product.split(\",\")[0]), product.split(\",\")[2]))\n",
        "\n",
        "ordersMap = ordersRdd.map(lambda order : (int(order.split(\",\")[2]), 1))\\\n",
        "    .reduceByKey(lambda x,y : x+y)\n",
        "\n",
        "productJoinOrders = productsMap.join(ordersMap)\\\n",
        "    .takeOrdered(num=3, key= lambda x: -x[1][1])\n",
        "#Using Top\n",
        "#productJoinOrders = productsMap.join(ordersMap)\\\n",
        "#    .top(num=3, key= lambda x: x[1][1])\n",
        "\n",
        "for i in productJoinOrders:print(i[1][0])"
      ],
      "execution_count": 0,
      "outputs": [
        {
          "output_type": "stream",
          "text": [
            "adidas Men's Germany Home Soccer Jersey\n",
            "Fitness Gear Pro Olympic Bench\n",
            "Hirzl Women's Trust Feel Golf Glove\n"
          ],
          "name": "stdout"
        }
      ]
    },
    {
      "cell_type": "code",
      "metadata": {
        "id": "L1EYDAI_E1mr",
        "colab_type": "code",
        "outputId": "00edad88-ae49-4998-a898-be0738ddc194",
        "colab": {
          "base_uri": "https://localhost:8080/",
          "height": 88
        }
      },
      "source": [
        "#Get top N(=3) products by price per category (1,product)\n",
        "productsMap = productsRdd.filter(lambda product: product.split(\",\")[4] != \"\")\\\n",
        "    .map(lambda product : (int(product.split(\",\")[1]), product))\\\n",
        "    .groupByKey()\\\n",
        "    .map(lambda product : (product[0], sorted(product[1],key=lambda x : float(x.split(\",\")[4]), reverse=True)))\\\n",
        "    .map(lambda product :  (product[0], product[1][:3]))\n",
        "for i in productsMap.take(3):print(i)"
      ],
      "execution_count": 0,
      "outputs": [
        {
          "output_type": "stream",
          "text": [
            "(2, ['16,2,Riddell Youth 360 Custom Football Helmet,,299.99,http://images.acmesports.sports/Riddell+Youth+360+Custom+Football+Helmet', '11,2,Fitness Gear 300 lb Olympic Weight Set,,209.99,http://images.acmesports.sports/Fitness+Gear+300+lb+Olympic+Weight+Set', '5,2,Riddell Youth Revolution Speed Custom Footbal,,199.99,http://images.acmesports.sports/Riddell+Youth+Revolution+Speed+Custom+Football+Helmet'])\n",
            "(4, ['66,4,SOLE F85 Treadmill,,1799.99,http://images.acmesports.sports/SOLE+F85+Treadmill', '60,4,SOLE E25 Elliptical,,999.99,http://images.acmesports.sports/SOLE+E25+Elliptical', '71,4,Diamondback Adult Response XE Mountain Bike 2,,349.98,http://images.acmesports.sports/Diamondback+Adult+Response+XE+Mountain+Bike+2014'])\n",
            "(6, ['117,6,YETI Tundra 65 Chest Cooler,,399.99,http://images.acmesports.sports/YETI+Tundra+65+Chest+Cooler', '106,6,Teeter Hang Ups NXT-S Inversion Table,,299.99,http://images.acmesports.sports/Teeter+Hang+Ups+NXT-S+Inversion+Table', '100,6,Quik Shade Summit SX170 10 FT. x 10 FT. Canop,,199.99,http://images.acmesports.sports/Quik+Shade+Summit+SX170+10+FT.+x+10+FT.+Canopy'])\n"
          ],
          "name": "stdout"
        }
      ]
    },
    {
      "cell_type": "code",
      "metadata": {
        "id": "6DEREWOeQ4bc",
        "colab_type": "code",
        "outputId": "b1fd5b28-66c0-45bc-bf13-ddda7cb4733f",
        "colab": {
          "base_uri": "https://localhost:8080/",
          "height": 102
        }
      },
      "source": [
        "#Get Top N(5) priced products\n",
        "def getTopProduct(x):\n",
        "    return  float(x.split(\",\")[4])\n",
        "productsMap = productsRdd.filter(lambda product: product.split(\",\")[4] != \"\")\\\n",
        "    .top(5, key=lambda x: getTopProduct(x))\n",
        "for i in productsMap: print(i)"
      ],
      "execution_count": 0,
      "outputs": [
        {
          "output_type": "stream",
          "text": [
            "208,10,SOLE E35 Elliptical,,1999.99,http://images.acmesports.sports/SOLE+E35+Elliptical\n",
            "66,4,SOLE F85 Treadmill,,1799.99,http://images.acmesports.sports/SOLE+F85+Treadmill\n",
            "199,10,SOLE F85 Treadmill,,1799.99,http://images.acmesports.sports/SOLE+F85+Treadmill\n",
            "496,22,SOLE F85 Treadmill,,1799.99,http://images.acmesports.sports/SOLE+F85+Treadmill\n",
            "1048,47,\"Spalding Beast 60\"\" Glass Portable Basketball \",,1099.99,http://images.acmesports.sports/Spalding+Beast+60%22+Glass+Portable+Basketball+Hoop\n"
          ],
          "name": "stdout"
        }
      ]
    },
    {
      "cell_type": "code",
      "metadata": {
        "id": "9nr_01YfWx0Z",
        "colab_type": "code",
        "outputId": "f92c28e0-369b-4dff-ac77-e26c9a40ebb9",
        "colab": {
          "base_uri": "https://localhost:8080/",
          "height": 68
        }
      },
      "source": [
        "#Get products ids sold in 2013-12 and 2014-01\n",
        "ordersMap = ordersRdd.filter(lambda order:  order.split(\",\")[1][:7] in (\"2013-12\", \"2014-01\") and order.split(\",\")[3] == \"COMPLETE\")\\\n",
        "    .map(lambda order : order.split(\",\")[2])\n",
        "for i in ordersMap.take(3):print(i)"
      ],
      "execution_count": 0,
      "outputs": [
        {
          "output_type": "stream",
          "text": [
            "383\n",
            "9720\n",
            "10118\n"
          ],
          "name": "stdout"
        }
      ]
    }
  ]
}