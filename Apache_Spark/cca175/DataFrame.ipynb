{
  "nbformat": 4,
  "nbformat_minor": 0,
  "metadata": {
    "colab": {
      "name": "DataFrame.ipynb",
      "provenance": [],
      "collapsed_sections": [],
      "mount_file_id": "1mWoQY79boLcAhJv4_VDMDn1bqEF8KRi4",
      "authorship_tag": "ABX9TyOIZeURDgtF0mcSV3KtjViP",
      "include_colab_link": true
    },
    "kernelspec": {
      "name": "python3",
      "display_name": "Python 3"
    }
  },
  "cells": [
    {
      "cell_type": "markdown",
      "metadata": {
        "id": "view-in-github",
        "colab_type": "text"
      },
      "source": [
        "<a href=\"https://colab.research.google.com/github/abdelilah-bouslama/Data-Science/blob/master/Apache_Spark/cca175/DataFrame.ipynb\" target=\"_parent\"><img src=\"https://colab.research.google.com/assets/colab-badge.svg\" alt=\"Open In Colab\"/></a>"
      ]
    },
    {
      "cell_type": "code",
      "metadata": {
        "id": "XvCpwtgxWvWG",
        "colab_type": "code",
        "colab": {}
      },
      "source": [
        "!apt-get install openjdk-8-jdk-headless -qq > /dev/null"
      ],
      "execution_count": 0,
      "outputs": []
    },
    {
      "cell_type": "code",
      "metadata": {
        "id": "oGH4z1gAAMXl",
        "colab_type": "code",
        "colab": {}
      },
      "source": [
        "!wget -q https://downloads.apache.org/spark/spark-2.4.5/spark-2.4.5-bin-hadoop2.7.tgz"
      ],
      "execution_count": 0,
      "outputs": []
    },
    {
      "cell_type": "code",
      "metadata": {
        "id": "zhl0KJvwBgTQ",
        "colab_type": "code",
        "colab": {}
      },
      "source": [
        "!tar xf spark-2.4.5-bin-hadoop2.7.tgz"
      ],
      "execution_count": 0,
      "outputs": []
    },
    {
      "cell_type": "code",
      "metadata": {
        "id": "exr8-dwqAdXs",
        "colab_type": "code",
        "colab": {}
      },
      "source": [
        "!pip install -q findspark"
      ],
      "execution_count": 0,
      "outputs": []
    },
    {
      "cell_type": "code",
      "metadata": {
        "id": "kCrBGEDiAsmk",
        "colab_type": "code",
        "colab": {}
      },
      "source": [
        "import os\n",
        "os.environ[\"JAVA_HOME\"] = \"/usr/lib/jvm/java-8-openjdk-amd64\"\n",
        "os.environ[\"SPARK_HOME\"] = \"/content/spark-2.4.5-bin-hadoop2.7\""
      ],
      "execution_count": 0,
      "outputs": []
    },
    {
      "cell_type": "code",
      "metadata": {
        "id": "-prfYmz-AygV",
        "colab_type": "code",
        "colab": {}
      },
      "source": [
        "import findspark\n",
        "findspark.init()\n",
        "from pyspark.sql import SparkSession\n",
        "spark = SparkSession.builder.master(\"local[*]\").getOrCreate()\n",
        "sc = spark.sparkContext"
      ],
      "execution_count": 0,
      "outputs": []
    },
    {
      "cell_type": "markdown",
      "metadata": {
        "id": "MHPX_C24foFQ",
        "colab_type": "text"
      },
      "source": [
        "# **DATAFRAME from CSV FILE**"
      ]
    },
    {
      "cell_type": "code",
      "metadata": {
        "id": "7aC5UP-dhJDf",
        "colab_type": "code",
        "colab": {}
      },
      "source": [
        "ordersDF = spark.read.csv(\"/content/drive/My Drive/BIG DATA/pyspark/CCA-175/dataset/retail_db/orders/part-00000\", sep=\",\")"
      ],
      "execution_count": 0,
      "outputs": []
    },
    {
      "cell_type": "code",
      "metadata": {
        "id": "Lt1RBKV9Zjnm",
        "colab_type": "code",
        "outputId": "aea84eb8-2bcb-40c4-cd2d-b02818a1c319",
        "colab": {
          "base_uri": "https://localhost:8080/",
          "height": 34
        }
      },
      "source": [
        "ordersDF.first()"
      ],
      "execution_count": 0,
      "outputs": [
        {
          "output_type": "execute_result",
          "data": {
            "text/plain": [
              "Row(_c0='1', _c1='2013-07-25 00:00:00.0', _c2='11599', _c3='CLOSED')"
            ]
          },
          "metadata": {
            "tags": []
          },
          "execution_count": 8
        }
      ]
    },
    {
      "cell_type": "code",
      "metadata": {
        "id": "lWh_gWkabSPi",
        "colab_type": "code",
        "outputId": "a597ecdd-3be7-4d32-a2c4-441e269d4ab1",
        "colab": {
          "base_uri": "https://localhost:8080/",
          "height": 136
        }
      },
      "source": [
        "ordersDF.printSchema()\n",
        "ordersDF.count()"
      ],
      "execution_count": 0,
      "outputs": [
        {
          "output_type": "stream",
          "text": [
            "root\n",
            " |-- _c0: string (nullable = true)\n",
            " |-- _c1: string (nullable = true)\n",
            " |-- _c2: string (nullable = true)\n",
            " |-- _c3: string (nullable = true)\n",
            "\n"
          ],
          "name": "stdout"
        },
        {
          "output_type": "execute_result",
          "data": {
            "text/plain": [
              "68883"
            ]
          },
          "metadata": {
            "tags": []
          },
          "execution_count": 9
        }
      ]
    },
    {
      "cell_type": "code",
      "metadata": {
        "id": "iaOhMExlk_3k",
        "colab_type": "code",
        "colab": {}
      },
      "source": [
        "ordersDF = spark.read.csv(\"/content/drive/My Drive/BIG DATA/pyspark/CCA-175/dataset/retail_db/orders/part-00000\", sep=\",\", schema='order_id int, order_date string, order_customer_id int, order_status string')"
      ],
      "execution_count": 0,
      "outputs": []
    },
    {
      "cell_type": "code",
      "metadata": {
        "id": "X9VAAZHxlUaE",
        "colab_type": "code",
        "colab": {}
      },
      "source": [
        "ordersDF.printSchema()"
      ],
      "execution_count": 0,
      "outputs": []
    },
    {
      "cell_type": "code",
      "metadata": {
        "id": "DZkGX9JAlbsZ",
        "colab_type": "code",
        "colab": {}
      },
      "source": [
        "#Another way to define schema\n",
        "ordersDF = spark.read.csv(\"/content/drive/My Drive/BIG DATA/pyspark/CCA-175/dataset/retail_db/orders/part-00000\", sep=\",\")"
      ],
      "execution_count": 0,
      "outputs": []
    },
    {
      "cell_type": "code",
      "metadata": {
        "id": "8VCG7XhVlqg-",
        "colab_type": "code",
        "colab": {}
      },
      "source": [
        "ordersDF = ordersDF.toDF('order_id int', 'order_date string', 'order_customer_id int', 'order_status string')\n",
        "ordersDF.printSchema()"
      ],
      "execution_count": 0,
      "outputs": []
    },
    {
      "cell_type": "code",
      "metadata": {
        "id": "JaaH0fuvm_iU",
        "colab_type": "code",
        "colab": {}
      },
      "source": [
        "# load CSV using format\n",
        "ordersDF = spark.read.format('csv') \\\n",
        "    .option('sep', ',') \\\n",
        "    .schema('order_id int, order_date string, order_customer_id int, order_status string') \\\n",
        "    .load(\"/content/drive/My Drive/BIG DATA/pyspark/CCA-175/dataset/retail_db/orders/part-00000\")"
      ],
      "execution_count": 0,
      "outputs": []
    },
    {
      "cell_type": "code",
      "metadata": {
        "id": "OuwEidX9nbEJ",
        "colab_type": "code",
        "colab": {}
      },
      "source": [
        "ordersDF.printSchema()"
      ],
      "execution_count": 0,
      "outputs": []
    },
    {
      "cell_type": "code",
      "metadata": {
        "id": "zqwHqbZfn9q9",
        "colab_type": "code",
        "colab": {}
      },
      "source": [
        "#Second way to define dataType using casting\n",
        "ordersDF = spark.read.csv(\"/content/drive/My Drive/BIG DATA/pyspark/CCA-175/dataset/retail_db/orders/part-00000\", sep=\",\").toDF('order_id', 'order_date', 'order_customer_id', 'order_status')"
      ],
      "execution_count": 0,
      "outputs": []
    },
    {
      "cell_type": "code",
      "metadata": {
        "id": "BH1fINLhoXn1",
        "colab_type": "code",
        "colab": {}
      },
      "source": [
        "ordersDF.printSchema()"
      ],
      "execution_count": 0,
      "outputs": []
    },
    {
      "cell_type": "code",
      "metadata": {
        "id": "Jqf5vjBToZvp",
        "colab_type": "code",
        "colab": {}
      },
      "source": [
        "from pyspark.sql.types import IntegerType\n",
        "orders = ordersDF.select(ordersDF.order_id.cast(\"int\"), ordersDF.order_date, ordersDF.order_customer_id.cast(IntegerType()), ordersDF.order_status)"
      ],
      "execution_count": 0,
      "outputs": []
    },
    {
      "cell_type": "code",
      "metadata": {
        "id": "rxIiFyjkpBH3",
        "colab_type": "code",
        "colab": {}
      },
      "source": [
        "orders"
      ],
      "execution_count": 0,
      "outputs": []
    },
    {
      "cell_type": "code",
      "metadata": {
        "id": "G84_HtVHpjGf",
        "colab_type": "code",
        "outputId": "f73d7948-bd3f-439e-e1f4-ca6cc6a0f264",
        "colab": {
          "base_uri": "https://localhost:8080/",
          "height": 34
        }
      },
      "source": [
        "#Third way to scpecify dataType\n",
        "orders = ordersDF.withColumn('order_id', ordersDF.order_id.cast(\"int\")) \\\n",
        "    .withColumn('order_customer_id', ordersDF.order_customer_id.cast(IntegerType()))\n",
        "orders"
      ],
      "execution_count": 0,
      "outputs": [
        {
          "output_type": "execute_result",
          "data": {
            "text/plain": [
              "DataFrame[order_id: int, order_date: string, order_customer_id: int, order_status: string]"
            ]
          },
          "metadata": {
            "tags": []
          },
          "execution_count": 36
        }
      ]
    },
    {
      "cell_type": "code",
      "metadata": {
        "id": "3K6K5Z4gn2S_",
        "colab_type": "code",
        "outputId": "b5032b04-00f4-4840-c8fd-082954aea0a7",
        "colab": {
          "base_uri": "https://localhost:8080/",
          "height": 119
        }
      },
      "source": [
        "#Agg functions on orders DataFrame\n",
        "orders.select('order_status').distinct().count() #count\n",
        "from pyspark.sql.functions import countDistinct\n",
        "orders.select(countDistinct(orders.order_status)).show()\n",
        "\n",
        "#spark.sql(\"show functions\").where('function like \"%stinct%\"').show()"
      ],
      "execution_count": 0,
      "outputs": [
        {
          "output_type": "stream",
          "text": [
            "+----------------------------+\n",
            "|count(DISTINCT order_status)|\n",
            "+----------------------------+\n",
            "|                           9|\n",
            "+----------------------------+\n",
            "\n"
          ],
          "name": "stdout"
        }
      ]
    },
    {
      "cell_type": "markdown",
      "metadata": {
        "id": "F3e1Ez7nsFfj",
        "colab_type": "text"
      },
      "source": [
        "# **JOIN Between DATAFRAME**"
      ]
    },
    {
      "cell_type": "code",
      "metadata": {
        "colab_type": "code",
        "id": "KDsLOycEGmBm",
        "colab": {}
      },
      "source": [
        "ordersDF = spark.read.csv(\"/content/drive/My Drive/BIG DATA/pyspark/CCA-175/dataset/retail_db/orders/part-00000\", sep=\",\", schema='order_id int, order_date string, order_customer_id int, order_status string')"
      ],
      "execution_count": 0,
      "outputs": []
    },
    {
      "cell_type": "code",
      "metadata": {
        "colab_type": "code",
        "id": "kaXF2guzGw3x",
        "outputId": "a510dd3b-4b75-43a3-f41c-11fcb61ce6de",
        "colab": {
          "base_uri": "https://localhost:8080/",
          "height": 119
        }
      },
      "source": [
        "ordersDF.printSchema()"
      ],
      "execution_count": 0,
      "outputs": [
        {
          "output_type": "stream",
          "text": [
            "root\n",
            " |-- order_id: integer (nullable = true)\n",
            " |-- order_date: string (nullable = true)\n",
            " |-- order_customer_id: integer (nullable = true)\n",
            " |-- order_status: string (nullable = true)\n",
            "\n"
          ],
          "name": "stdout"
        }
      ]
    },
    {
      "cell_type": "code",
      "metadata": {
        "id": "tkhL6tPiHBdX",
        "colab_type": "code",
        "outputId": "751f34c4-a59b-4ab6-92c9-56029f336f77",
        "colab": {
          "base_uri": "https://localhost:8080/",
          "height": 459
        }
      },
      "source": [
        "ordersDF.select('order_id', ordersDF.order_date, 'order_customer_id').show(truncate = False) # ordersDF.select(ordersDF.order_id, ordersDF.order_customer_id).show()"
      ],
      "execution_count": 0,
      "outputs": [
        {
          "output_type": "stream",
          "text": [
            "+--------+---------------------+-----------------+\n",
            "|order_id|order_date           |order_customer_id|\n",
            "+--------+---------------------+-----------------+\n",
            "|1       |2013-07-25 00:00:00.0|11599            |\n",
            "|2       |2013-07-25 00:00:00.0|256              |\n",
            "|3       |2013-07-25 00:00:00.0|12111            |\n",
            "|4       |2013-07-25 00:00:00.0|8827             |\n",
            "|5       |2013-07-25 00:00:00.0|11318            |\n",
            "|6       |2013-07-25 00:00:00.0|7130             |\n",
            "|7       |2013-07-25 00:00:00.0|4530             |\n",
            "|8       |2013-07-25 00:00:00.0|2911             |\n",
            "|9       |2013-07-25 00:00:00.0|5657             |\n",
            "|10      |2013-07-25 00:00:00.0|5648             |\n",
            "|11      |2013-07-25 00:00:00.0|918              |\n",
            "|12      |2013-07-25 00:00:00.0|1837             |\n",
            "|13      |2013-07-25 00:00:00.0|9149             |\n",
            "|14      |2013-07-25 00:00:00.0|9842             |\n",
            "|15      |2013-07-25 00:00:00.0|2568             |\n",
            "|16      |2013-07-25 00:00:00.0|7276             |\n",
            "|17      |2013-07-25 00:00:00.0|2667             |\n",
            "|18      |2013-07-25 00:00:00.0|1205             |\n",
            "|19      |2013-07-25 00:00:00.0|9488             |\n",
            "|20      |2013-07-25 00:00:00.0|9198             |\n",
            "+--------+---------------------+-----------------+\n",
            "only showing top 20 rows\n",
            "\n"
          ],
          "name": "stdout"
        }
      ]
    },
    {
      "cell_type": "code",
      "metadata": {
        "id": "TTR8z-83HaVt",
        "colab_type": "code",
        "outputId": "d33fe07a-241c-434e-8bf4-dab2657d6d41",
        "colab": {
          "base_uri": "https://localhost:8080/",
          "height": 459
        }
      },
      "source": [
        "# get Y-month of orders \n",
        "from pyspark.sql.functions import substring\n",
        "ordersDF.select('order_id',substring(ordersDF.order_date, 1, 7).alias('order_date')).show()"
      ],
      "execution_count": 0,
      "outputs": [
        {
          "output_type": "stream",
          "text": [
            "+--------+----------+\n",
            "|order_id|order_date|\n",
            "+--------+----------+\n",
            "|       1|   2013-07|\n",
            "|       2|   2013-07|\n",
            "|       3|   2013-07|\n",
            "|       4|   2013-07|\n",
            "|       5|   2013-07|\n",
            "|       6|   2013-07|\n",
            "|       7|   2013-07|\n",
            "|       8|   2013-07|\n",
            "|       9|   2013-07|\n",
            "|      10|   2013-07|\n",
            "|      11|   2013-07|\n",
            "|      12|   2013-07|\n",
            "|      13|   2013-07|\n",
            "|      14|   2013-07|\n",
            "|      15|   2013-07|\n",
            "|      16|   2013-07|\n",
            "|      17|   2013-07|\n",
            "|      18|   2013-07|\n",
            "|      19|   2013-07|\n",
            "|      20|   2013-07|\n",
            "+--------+----------+\n",
            "only showing top 20 rows\n",
            "\n"
          ],
          "name": "stdout"
        }
      ]
    },
    {
      "cell_type": "code",
      "metadata": {
        "id": "3J-oh6K5MTeB",
        "colab_type": "code",
        "outputId": "c6d97182-1ef4-4a14-b804-8feba599c048",
        "colab": {
          "base_uri": "https://localhost:8080/",
          "height": 459
        }
      },
      "source": [
        "#get All columns with transform format for particular column\n",
        "ordersDF.withColumn('order_id', ordersDF.order_id).withColumn('order_date', substring(ordersDF.order_date, 1, 7)).show() #use select('order_id', 'order_date') to filter"
      ],
      "execution_count": 0,
      "outputs": [
        {
          "output_type": "stream",
          "text": [
            "+--------+----------+-----------------+---------------+\n",
            "|order_id|order_date|order_customer_id|   order_status|\n",
            "+--------+----------+-----------------+---------------+\n",
            "|       1|   2013-07|            11599|         CLOSED|\n",
            "|       2|   2013-07|              256|PENDING_PAYMENT|\n",
            "|       3|   2013-07|            12111|       COMPLETE|\n",
            "|       4|   2013-07|             8827|         CLOSED|\n",
            "|       5|   2013-07|            11318|       COMPLETE|\n",
            "|       6|   2013-07|             7130|       COMPLETE|\n",
            "|       7|   2013-07|             4530|       COMPLETE|\n",
            "|       8|   2013-07|             2911|     PROCESSING|\n",
            "|       9|   2013-07|             5657|PENDING_PAYMENT|\n",
            "|      10|   2013-07|             5648|PENDING_PAYMENT|\n",
            "|      11|   2013-07|              918| PAYMENT_REVIEW|\n",
            "|      12|   2013-07|             1837|         CLOSED|\n",
            "|      13|   2013-07|             9149|PENDING_PAYMENT|\n",
            "|      14|   2013-07|             9842|     PROCESSING|\n",
            "|      15|   2013-07|             2568|       COMPLETE|\n",
            "|      16|   2013-07|             7276|PENDING_PAYMENT|\n",
            "|      17|   2013-07|             2667|       COMPLETE|\n",
            "|      18|   2013-07|             1205|         CLOSED|\n",
            "|      19|   2013-07|             9488|PENDING_PAYMENT|\n",
            "|      20|   2013-07|             9198|     PROCESSING|\n",
            "+--------+----------+-----------------+---------------+\n",
            "only showing top 20 rows\n",
            "\n"
          ],
          "name": "stdout"
        }
      ]
    },
    {
      "cell_type": "code",
      "metadata": {
        "id": "rOQL71UWNubx",
        "colab_type": "code",
        "outputId": "16fab90f-6082-45b3-8100-3496665becbe",
        "colab": {
          "base_uri": "https://localhost:8080/",
          "height": 459
        }
      },
      "source": [
        "# drop columns\n",
        "ordersDF.drop('order_id').show(truncate = False)"
      ],
      "execution_count": 0,
      "outputs": [
        {
          "output_type": "stream",
          "text": [
            "+---------------------+-----------------+---------------+\n",
            "|order_date           |order_customer_id|order_status   |\n",
            "+---------------------+-----------------+---------------+\n",
            "|2013-07-25 00:00:00.0|11599            |CLOSED         |\n",
            "|2013-07-25 00:00:00.0|256              |PENDING_PAYMENT|\n",
            "|2013-07-25 00:00:00.0|12111            |COMPLETE       |\n",
            "|2013-07-25 00:00:00.0|8827             |CLOSED         |\n",
            "|2013-07-25 00:00:00.0|11318            |COMPLETE       |\n",
            "|2013-07-25 00:00:00.0|7130             |COMPLETE       |\n",
            "|2013-07-25 00:00:00.0|4530             |COMPLETE       |\n",
            "|2013-07-25 00:00:00.0|2911             |PROCESSING     |\n",
            "|2013-07-25 00:00:00.0|5657             |PENDING_PAYMENT|\n",
            "|2013-07-25 00:00:00.0|5648             |PENDING_PAYMENT|\n",
            "|2013-07-25 00:00:00.0|918              |PAYMENT_REVIEW |\n",
            "|2013-07-25 00:00:00.0|1837             |CLOSED         |\n",
            "|2013-07-25 00:00:00.0|9149             |PENDING_PAYMENT|\n",
            "|2013-07-25 00:00:00.0|9842             |PROCESSING     |\n",
            "|2013-07-25 00:00:00.0|2568             |COMPLETE       |\n",
            "|2013-07-25 00:00:00.0|7276             |PENDING_PAYMENT|\n",
            "|2013-07-25 00:00:00.0|2667             |COMPLETE       |\n",
            "|2013-07-25 00:00:00.0|1205             |CLOSED         |\n",
            "|2013-07-25 00:00:00.0|9488             |PENDING_PAYMENT|\n",
            "|2013-07-25 00:00:00.0|9198             |PROCESSING     |\n",
            "+---------------------+-----------------+---------------+\n",
            "only showing top 20 rows\n",
            "\n"
          ],
          "name": "stdout"
        }
      ]
    },
    {
      "cell_type": "code",
      "metadata": {
        "id": "Rn1L1cADOEWm",
        "colab_type": "code",
        "outputId": "97c692b6-28df-4f37-8392-2673bf755adb",
        "colab": {
          "base_uri": "https://localhost:8080/",
          "height": 459
        }
      },
      "source": [
        "# using Sql style with transform actions\n",
        "ordersDF.selectExpr('order_id','substring(order_date, 1, 7) as order_date').show()"
      ],
      "execution_count": 0,
      "outputs": [
        {
          "output_type": "stream",
          "text": [
            "+--------+----------+\n",
            "|order_id|order_date|\n",
            "+--------+----------+\n",
            "|       1|   2013-07|\n",
            "|       2|   2013-07|\n",
            "|       3|   2013-07|\n",
            "|       4|   2013-07|\n",
            "|       5|   2013-07|\n",
            "|       6|   2013-07|\n",
            "|       7|   2013-07|\n",
            "|       8|   2013-07|\n",
            "|       9|   2013-07|\n",
            "|      10|   2013-07|\n",
            "|      11|   2013-07|\n",
            "|      12|   2013-07|\n",
            "|      13|   2013-07|\n",
            "|      14|   2013-07|\n",
            "|      15|   2013-07|\n",
            "|      16|   2013-07|\n",
            "|      17|   2013-07|\n",
            "|      18|   2013-07|\n",
            "|      19|   2013-07|\n",
            "|      20|   2013-07|\n",
            "+--------+----------+\n",
            "only showing top 20 rows\n",
            "\n"
          ],
          "name": "stdout"
        }
      ]
    },
    {
      "cell_type": "code",
      "metadata": {
        "id": "wH3CkpDlPmA6",
        "colab_type": "code",
        "outputId": "24300172-ad2b-4a9b-ba73-15996a15ca28",
        "colab": {
          "base_uri": "https://localhost:8080/",
          "height": 731
        }
      },
      "source": [
        "# filter data using filter function\n",
        "ordersDF.selectExpr('order_id', 'order_date', 'order_status').filter('order_date > \"2013-07-01 00:00:00\" and order_status in(\"COMPLETE\")').show(truncate=False)\n",
        "#OR\n",
        "ordersDF.selectExpr('order_id', 'order_date').filter(ordersDF.order_date > \"2013-07-01 00:00:00\").show(10,truncate=False)\n",
        "#Another example using In"
      ],
      "execution_count": 0,
      "outputs": [
        {
          "output_type": "stream",
          "text": [
            "+--------+---------------------+------------+\n",
            "|order_id|order_date           |order_status|\n",
            "+--------+---------------------+------------+\n",
            "|3       |2013-07-25 00:00:00.0|COMPLETE    |\n",
            "|5       |2013-07-25 00:00:00.0|COMPLETE    |\n",
            "|6       |2013-07-25 00:00:00.0|COMPLETE    |\n",
            "|7       |2013-07-25 00:00:00.0|COMPLETE    |\n",
            "|15      |2013-07-25 00:00:00.0|COMPLETE    |\n",
            "|17      |2013-07-25 00:00:00.0|COMPLETE    |\n",
            "|22      |2013-07-25 00:00:00.0|COMPLETE    |\n",
            "|26      |2013-07-25 00:00:00.0|COMPLETE    |\n",
            "|28      |2013-07-25 00:00:00.0|COMPLETE    |\n",
            "|32      |2013-07-25 00:00:00.0|COMPLETE    |\n",
            "|35      |2013-07-25 00:00:00.0|COMPLETE    |\n",
            "|45      |2013-07-25 00:00:00.0|COMPLETE    |\n",
            "|56      |2013-07-25 00:00:00.0|COMPLETE    |\n",
            "|63      |2013-07-25 00:00:00.0|COMPLETE    |\n",
            "|65      |2013-07-25 00:00:00.0|COMPLETE    |\n",
            "|67      |2013-07-25 00:00:00.0|COMPLETE    |\n",
            "|71      |2013-07-25 00:00:00.0|COMPLETE    |\n",
            "|72      |2013-07-25 00:00:00.0|COMPLETE    |\n",
            "|76      |2013-07-25 00:00:00.0|COMPLETE    |\n",
            "|80      |2013-07-25 00:00:00.0|COMPLETE    |\n",
            "+--------+---------------------+------------+\n",
            "only showing top 20 rows\n",
            "\n",
            "+--------+---------------------+\n",
            "|order_id|order_date           |\n",
            "+--------+---------------------+\n",
            "|1       |2013-07-25 00:00:00.0|\n",
            "|2       |2013-07-25 00:00:00.0|\n",
            "|3       |2013-07-25 00:00:00.0|\n",
            "|4       |2013-07-25 00:00:00.0|\n",
            "|5       |2013-07-25 00:00:00.0|\n",
            "|6       |2013-07-25 00:00:00.0|\n",
            "|7       |2013-07-25 00:00:00.0|\n",
            "|8       |2013-07-25 00:00:00.0|\n",
            "|9       |2013-07-25 00:00:00.0|\n",
            "|10      |2013-07-25 00:00:00.0|\n",
            "+--------+---------------------+\n",
            "only showing top 10 rows\n",
            "\n"
          ],
          "name": "stdout"
        }
      ]
    },
    {
      "cell_type": "code",
      "metadata": {
        "id": "vc2-N-CHSnm2",
        "colab_type": "code",
        "outputId": "744eef01-bb98-4733-ff77-703212cb41af",
        "colab": {
          "base_uri": "https://localhost:8080/",
          "height": 459
        }
      },
      "source": [
        "help(ordersDF.sort)"
      ],
      "execution_count": 0,
      "outputs": [
        {
          "output_type": "stream",
          "text": [
            "Help on method sort in module pyspark.sql.dataframe:\n",
            "\n",
            "sort(*cols, **kwargs) method of pyspark.sql.dataframe.DataFrame instance\n",
            "    Returns a new :class:`DataFrame` sorted by the specified column(s).\n",
            "    \n",
            "    :param cols: list of :class:`Column` or column names to sort by.\n",
            "    :param ascending: boolean or list of boolean (default ``True``).\n",
            "        Sort ascending vs. descending. Specify list for multiple sort orders.\n",
            "        If a list is specified, length of the list must equal length of the `cols`.\n",
            "    \n",
            "    >>> df.sort(df.age.desc()).collect()\n",
            "    [Row(age=5, name='Bob'), Row(age=2, name='Alice')]\n",
            "    >>> df.sort(\"age\", ascending=False).collect()\n",
            "    [Row(age=5, name='Bob'), Row(age=2, name='Alice')]\n",
            "    >>> df.orderBy(df.age.desc()).collect()\n",
            "    [Row(age=5, name='Bob'), Row(age=2, name='Alice')]\n",
            "    >>> from pyspark.sql.functions import *\n",
            "    >>> df.sort(asc(\"age\")).collect()\n",
            "    [Row(age=2, name='Alice'), Row(age=5, name='Bob')]\n",
            "    >>> df.orderBy(desc(\"age\"), \"name\").collect()\n",
            "    [Row(age=5, name='Bob'), Row(age=2, name='Alice')]\n",
            "    >>> df.orderBy([\"age\", \"name\"], ascending=[0, 1]).collect()\n",
            "    [Row(age=5, name='Bob'), Row(age=2, name='Alice')]\n",
            "    \n",
            "    .. versionadded:: 1.3\n",
            "\n"
          ],
          "name": "stdout"
        }
      ]
    },
    {
      "cell_type": "code",
      "metadata": {
        "id": "8AMd5tBXRXyV",
        "colab_type": "code",
        "outputId": "cce659fd-eb7d-48c5-d852-e22646ab911e",
        "colab": {
          "base_uri": "https://localhost:8080/",
          "height": 459
        }
      },
      "source": [
        "#Get orders which are either COMPLETE or CLOSED, and sorted base on order_date\n",
        "ordersDF.filter('order_status in (\"COMPLETE\", \"CLOSED\")') \\\n",
        "    .sort('order_date',ascending=False) \\\n",
        "    .show()\n",
        "# another example .sort(ordersDF.order_customer_id.desc())\\"
      ],
      "execution_count": 0,
      "outputs": [
        {
          "output_type": "stream",
          "text": [
            "+--------+--------------------+-----------------+------------+\n",
            "|order_id|          order_date|order_customer_id|order_status|\n",
            "+--------+--------------------+-----------------+------------+\n",
            "|   57595|2014-07-24 00:00:...|             9102|    COMPLETE|\n",
            "|   57647|2014-07-24 00:00:...|            11856|    COMPLETE|\n",
            "|   57603|2014-07-24 00:00:...|            10713|    COMPLETE|\n",
            "|   57606|2014-07-24 00:00:...|             2633|    COMPLETE|\n",
            "|   57607|2014-07-24 00:00:...|             2666|      CLOSED|\n",
            "|   57612|2014-07-24 00:00:...|             3199|    COMPLETE|\n",
            "|   57613|2014-07-24 00:00:...|             9278|      CLOSED|\n",
            "|   57616|2014-07-24 00:00:...|             6545|      CLOSED|\n",
            "|   57617|2014-07-24 00:00:...|                3|    COMPLETE|\n",
            "|   57619|2014-07-24 00:00:...|            11662|    COMPLETE|\n",
            "|   57622|2014-07-24 00:00:...|             3683|    COMPLETE|\n",
            "|   57623|2014-07-24 00:00:...|             5049|    COMPLETE|\n",
            "|   57627|2014-07-24 00:00:...|            11707|    COMPLETE|\n",
            "|   57628|2014-07-24 00:00:...|             6463|      CLOSED|\n",
            "|   57631|2014-07-24 00:00:...|             3728|      CLOSED|\n",
            "|   57633|2014-07-24 00:00:...|             5792|    COMPLETE|\n",
            "|   57635|2014-07-24 00:00:...|            10211|    COMPLETE|\n",
            "|   57640|2014-07-24 00:00:...|             4674|    COMPLETE|\n",
            "|   57642|2014-07-24 00:00:...|            10258|      CLOSED|\n",
            "|   57643|2014-07-24 00:00:...|            10518|    COMPLETE|\n",
            "+--------+--------------------+-----------------+------------+\n",
            "only showing top 20 rows\n",
            "\n"
          ],
          "name": "stdout"
        }
      ]
    },
    {
      "cell_type": "code",
      "metadata": {
        "id": "dT1N8mydUDcR",
        "colab_type": "code",
        "outputId": "491dffad-ed67-4371-92ce-fb0be5670c84",
        "colab": {
          "base_uri": "https://localhost:8080/",
          "height": 1000
        }
      },
      "source": [
        "#Get orders which are either COMPLETE or CLOSED and placed in the month of 2013/08\n",
        "ordersDF.filter('order_status in(\"COMPLETE\", \"CLOSED\")') \\\n",
        "    .where('substring(order_date,0,7) == \"2013-08\"') \\\n",
        "    .show()\n",
        "#Another way\n",
        "# can replace where with & in filter function\n",
        "ordersDF.filter((ordersDF.order_status == \"COMPLETE\") | (ordersDF.order_status ==\"CLOSED\")) \\\n",
        "    .where('substring(order_date,0,7) == \"2013-08\"') \\\n",
        "    .show()\n",
        "\n",
        "#Another way\n",
        "ordersDF.filter(ordersDF.order_status.isin(\"COMPLETE\", \"CLOSED\")) \\\n",
        "    .where('substring(order_date,0,7) == \"2013-08\"') \\\n",
        "    .show()"
      ],
      "execution_count": 0,
      "outputs": [
        {
          "output_type": "stream",
          "text": [
            "+--------+--------------------+-----------------+------------+\n",
            "|order_id|          order_date|order_customer_id|order_status|\n",
            "+--------+--------------------+-----------------+------------+\n",
            "|    1297|2013-08-01 00:00:...|            11607|    COMPLETE|\n",
            "|    1298|2013-08-01 00:00:...|             5105|      CLOSED|\n",
            "|    1299|2013-08-01 00:00:...|             7802|    COMPLETE|\n",
            "|    1302|2013-08-01 00:00:...|             1695|    COMPLETE|\n",
            "|    1304|2013-08-01 00:00:...|             2059|    COMPLETE|\n",
            "|    1305|2013-08-01 00:00:...|             3844|    COMPLETE|\n",
            "|    1307|2013-08-01 00:00:...|             4474|    COMPLETE|\n",
            "|    1309|2013-08-01 00:00:...|             2367|      CLOSED|\n",
            "|    1312|2013-08-01 00:00:...|            12291|    COMPLETE|\n",
            "|    1314|2013-08-01 00:00:...|            10993|    COMPLETE|\n",
            "|    1315|2013-08-01 00:00:...|             5660|    COMPLETE|\n",
            "|    1318|2013-08-01 00:00:...|             4212|    COMPLETE|\n",
            "|    1319|2013-08-01 00:00:...|             3966|    COMPLETE|\n",
            "|    1320|2013-08-01 00:00:...|            12270|    COMPLETE|\n",
            "|    1321|2013-08-01 00:00:...|              800|    COMPLETE|\n",
            "|    1322|2013-08-01 00:00:...|             9264|    COMPLETE|\n",
            "|    1323|2013-08-01 00:00:...|             7422|    COMPLETE|\n",
            "|    1324|2013-08-01 00:00:...|             4600|    COMPLETE|\n",
            "|    1327|2013-08-01 00:00:...|             9526|    COMPLETE|\n",
            "|    1329|2013-08-01 00:00:...|             6070|      CLOSED|\n",
            "+--------+--------------------+-----------------+------------+\n",
            "only showing top 20 rows\n",
            "\n",
            "+--------+--------------------+-----------------+------------+\n",
            "|order_id|          order_date|order_customer_id|order_status|\n",
            "+--------+--------------------+-----------------+------------+\n",
            "|    1297|2013-08-01 00:00:...|            11607|    COMPLETE|\n",
            "|    1298|2013-08-01 00:00:...|             5105|      CLOSED|\n",
            "|    1299|2013-08-01 00:00:...|             7802|    COMPLETE|\n",
            "|    1302|2013-08-01 00:00:...|             1695|    COMPLETE|\n",
            "|    1304|2013-08-01 00:00:...|             2059|    COMPLETE|\n",
            "|    1305|2013-08-01 00:00:...|             3844|    COMPLETE|\n",
            "|    1307|2013-08-01 00:00:...|             4474|    COMPLETE|\n",
            "|    1309|2013-08-01 00:00:...|             2367|      CLOSED|\n",
            "|    1312|2013-08-01 00:00:...|            12291|    COMPLETE|\n",
            "|    1314|2013-08-01 00:00:...|            10993|    COMPLETE|\n",
            "|    1315|2013-08-01 00:00:...|             5660|    COMPLETE|\n",
            "|    1318|2013-08-01 00:00:...|             4212|    COMPLETE|\n",
            "|    1319|2013-08-01 00:00:...|             3966|    COMPLETE|\n",
            "|    1320|2013-08-01 00:00:...|            12270|    COMPLETE|\n",
            "|    1321|2013-08-01 00:00:...|              800|    COMPLETE|\n",
            "|    1322|2013-08-01 00:00:...|             9264|    COMPLETE|\n",
            "|    1323|2013-08-01 00:00:...|             7422|    COMPLETE|\n",
            "|    1324|2013-08-01 00:00:...|             4600|    COMPLETE|\n",
            "|    1327|2013-08-01 00:00:...|             9526|    COMPLETE|\n",
            "|    1329|2013-08-01 00:00:...|             6070|      CLOSED|\n",
            "+--------+--------------------+-----------------+------------+\n",
            "only showing top 20 rows\n",
            "\n",
            "+--------+--------------------+-----------------+------------+\n",
            "|order_id|          order_date|order_customer_id|order_status|\n",
            "+--------+--------------------+-----------------+------------+\n",
            "|    1297|2013-08-01 00:00:...|            11607|    COMPLETE|\n",
            "|    1298|2013-08-01 00:00:...|             5105|      CLOSED|\n",
            "|    1299|2013-08-01 00:00:...|             7802|    COMPLETE|\n",
            "|    1302|2013-08-01 00:00:...|             1695|    COMPLETE|\n",
            "|    1304|2013-08-01 00:00:...|             2059|    COMPLETE|\n",
            "|    1305|2013-08-01 00:00:...|             3844|    COMPLETE|\n",
            "|    1307|2013-08-01 00:00:...|             4474|    COMPLETE|\n",
            "|    1309|2013-08-01 00:00:...|             2367|      CLOSED|\n",
            "|    1312|2013-08-01 00:00:...|            12291|    COMPLETE|\n",
            "|    1314|2013-08-01 00:00:...|            10993|    COMPLETE|\n",
            "|    1315|2013-08-01 00:00:...|             5660|    COMPLETE|\n",
            "|    1318|2013-08-01 00:00:...|             4212|    COMPLETE|\n",
            "|    1319|2013-08-01 00:00:...|             3966|    COMPLETE|\n",
            "|    1320|2013-08-01 00:00:...|            12270|    COMPLETE|\n",
            "|    1321|2013-08-01 00:00:...|              800|    COMPLETE|\n",
            "|    1322|2013-08-01 00:00:...|             9264|    COMPLETE|\n",
            "|    1323|2013-08-01 00:00:...|             7422|    COMPLETE|\n",
            "|    1324|2013-08-01 00:00:...|             4600|    COMPLETE|\n",
            "|    1327|2013-08-01 00:00:...|             9526|    COMPLETE|\n",
            "|    1329|2013-08-01 00:00:...|             6070|      CLOSED|\n",
            "+--------+--------------------+-----------------+------------+\n",
            "only showing top 20 rows\n",
            "\n"
          ],
          "name": "stdout"
        }
      ]
    },
    {
      "cell_type": "code",
      "metadata": {
        "id": "QhTFCa1RYYgX",
        "colab_type": "code",
        "outputId": "4d6db27d-4d33-410a-d7be-9553803ebed2",
        "colab": {
          "base_uri": "https://localhost:8080/",
          "height": 901
        }
      },
      "source": [
        "# using MAGIC functions(__or__, __and__)\n",
        "ordersDF.filter((ordersDF.order_status == \"COMPLETE\").__or__(ordersDF.order_status ==\"CLOSED\")) \\\n",
        "    .where('substring(order_date,0,7) like \"2013-08%\"') \\\n",
        "    .show()\n",
        "#use dataFrame Like function\n",
        "from pyspark.sql.functions import substring\n",
        "ordersDF.filter((ordersDF.order_status == \"COMPLETE\").__or__(ordersDF.order_status ==\"CLOSED\")) \\\n",
        "    .where(substring(ordersDF.order_date, 0, 7).like(\"2013-08%\")) \\\n",
        "    .show()"
      ],
      "execution_count": 0,
      "outputs": [
        {
          "output_type": "stream",
          "text": [
            "+--------+--------------------+-----------------+------------+\n",
            "|order_id|          order_date|order_customer_id|order_status|\n",
            "+--------+--------------------+-----------------+------------+\n",
            "|    1297|2013-08-01 00:00:...|            11607|    COMPLETE|\n",
            "|    1298|2013-08-01 00:00:...|             5105|      CLOSED|\n",
            "|    1299|2013-08-01 00:00:...|             7802|    COMPLETE|\n",
            "|    1302|2013-08-01 00:00:...|             1695|    COMPLETE|\n",
            "|    1304|2013-08-01 00:00:...|             2059|    COMPLETE|\n",
            "|    1305|2013-08-01 00:00:...|             3844|    COMPLETE|\n",
            "|    1307|2013-08-01 00:00:...|             4474|    COMPLETE|\n",
            "|    1309|2013-08-01 00:00:...|             2367|      CLOSED|\n",
            "|    1312|2013-08-01 00:00:...|            12291|    COMPLETE|\n",
            "|    1314|2013-08-01 00:00:...|            10993|    COMPLETE|\n",
            "|    1315|2013-08-01 00:00:...|             5660|    COMPLETE|\n",
            "|    1318|2013-08-01 00:00:...|             4212|    COMPLETE|\n",
            "|    1319|2013-08-01 00:00:...|             3966|    COMPLETE|\n",
            "|    1320|2013-08-01 00:00:...|            12270|    COMPLETE|\n",
            "|    1321|2013-08-01 00:00:...|              800|    COMPLETE|\n",
            "|    1322|2013-08-01 00:00:...|             9264|    COMPLETE|\n",
            "|    1323|2013-08-01 00:00:...|             7422|    COMPLETE|\n",
            "|    1324|2013-08-01 00:00:...|             4600|    COMPLETE|\n",
            "|    1327|2013-08-01 00:00:...|             9526|    COMPLETE|\n",
            "|    1329|2013-08-01 00:00:...|             6070|      CLOSED|\n",
            "+--------+--------------------+-----------------+------------+\n",
            "only showing top 20 rows\n",
            "\n",
            "+--------+--------------------+-----------------+------------+\n",
            "|order_id|          order_date|order_customer_id|order_status|\n",
            "+--------+--------------------+-----------------+------------+\n",
            "|    1297|2013-08-01 00:00:...|            11607|    COMPLETE|\n",
            "|    1298|2013-08-01 00:00:...|             5105|      CLOSED|\n",
            "|    1299|2013-08-01 00:00:...|             7802|    COMPLETE|\n",
            "|    1302|2013-08-01 00:00:...|             1695|    COMPLETE|\n",
            "|    1304|2013-08-01 00:00:...|             2059|    COMPLETE|\n",
            "|    1305|2013-08-01 00:00:...|             3844|    COMPLETE|\n",
            "|    1307|2013-08-01 00:00:...|             4474|    COMPLETE|\n",
            "|    1309|2013-08-01 00:00:...|             2367|      CLOSED|\n",
            "|    1312|2013-08-01 00:00:...|            12291|    COMPLETE|\n",
            "|    1314|2013-08-01 00:00:...|            10993|    COMPLETE|\n",
            "|    1315|2013-08-01 00:00:...|             5660|    COMPLETE|\n",
            "|    1318|2013-08-01 00:00:...|             4212|    COMPLETE|\n",
            "|    1319|2013-08-01 00:00:...|             3966|    COMPLETE|\n",
            "|    1320|2013-08-01 00:00:...|            12270|    COMPLETE|\n",
            "|    1321|2013-08-01 00:00:...|              800|    COMPLETE|\n",
            "|    1322|2013-08-01 00:00:...|             9264|    COMPLETE|\n",
            "|    1323|2013-08-01 00:00:...|             7422|    COMPLETE|\n",
            "|    1324|2013-08-01 00:00:...|             4600|    COMPLETE|\n",
            "|    1327|2013-08-01 00:00:...|             9526|    COMPLETE|\n",
            "|    1329|2013-08-01 00:00:...|             6070|      CLOSED|\n",
            "+--------+--------------------+-----------------+------------+\n",
            "only showing top 20 rows\n",
            "\n"
          ],
          "name": "stdout"
        }
      ]
    },
    {
      "cell_type": "code",
      "metadata": {
        "id": "1ECPcQ17sMU1",
        "colab_type": "code",
        "outputId": "cdb3bd01-20f8-482d-f01e-57a33addb9c7",
        "colab": {
          "base_uri": "https://localhost:8080/",
          "height": 289
        }
      },
      "source": [
        "#Get all the orders which are placed on first of every month\n",
        "#ordersDF.show(truncate=False)\n",
        "from pyspark.sql.functions import dayofmonth\n",
        "ordersDF.filter(dayofmonth(ordersDF.order_date) == '01').show(2,truncate=False)\n",
        "#Another way using sql\n",
        "ordersDF.filter(\"dayofmonth(order_date) == '01'\").show(2,truncate=False)"
      ],
      "execution_count": 0,
      "outputs": [
        {
          "output_type": "stream",
          "text": [
            "+--------+---------------------+-----------------+------------+\n",
            "|order_id|order_date           |order_customer_id|order_status|\n",
            "+--------+---------------------+-----------------+------------+\n",
            "|1297    |2013-08-01 00:00:00.0|11607            |COMPLETE    |\n",
            "|1298    |2013-08-01 00:00:00.0|5105             |CLOSED      |\n",
            "+--------+---------------------+-----------------+------------+\n",
            "only showing top 2 rows\n",
            "\n",
            "+--------+---------------------+-----------------+------------+\n",
            "|order_id|order_date           |order_customer_id|order_status|\n",
            "+--------+---------------------+-----------------+------------+\n",
            "|1297    |2013-08-01 00:00:00.0|11607            |COMPLETE    |\n",
            "|1298    |2013-08-01 00:00:00.0|5105             |CLOSED      |\n",
            "+--------+---------------------+-----------------+------------+\n",
            "only showing top 2 rows\n",
            "\n"
          ],
          "name": "stdout"
        }
      ]
    },
    {
      "cell_type": "code",
      "metadata": {
        "id": "kmd1ZzdwvTYu",
        "colab_type": "code",
        "colab": {}
      },
      "source": [
        "order_itemsDF = spark.read.csv(\"/content/drive/My Drive/BIG DATA/pyspark/CCA-175/dataset/retail_db/order_items/part-00000\", sep=',', schema='order_item_id int, order_item_order_id int, order_item_product_id int, order_item_quantity int, order_item_subtotal float, order_item_product_price float')"
      ],
      "execution_count": 0,
      "outputs": []
    },
    {
      "cell_type": "code",
      "metadata": {
        "id": "KwwZbR1Kxina",
        "colab_type": "code",
        "outputId": "dac2401a-9756-49b3-aaf4-665d37f00d7d",
        "colab": {
          "base_uri": "https://localhost:8080/",
          "height": 153
        }
      },
      "source": [
        "order_itemsDF.printSchema()"
      ],
      "execution_count": 0,
      "outputs": [
        {
          "output_type": "stream",
          "text": [
            "root\n",
            " |-- order_item_id: integer (nullable = true)\n",
            " |-- order_item_order_id: integer (nullable = true)\n",
            " |-- order_item_product_id: integer (nullable = true)\n",
            " |-- order_item_quantity: integer (nullable = true)\n",
            " |-- order_item_subtotal: float (nullable = true)\n",
            " |-- order_item_product_price: float (nullable = true)\n",
            "\n"
          ],
          "name": "stdout"
        }
      ]
    },
    {
      "cell_type": "code",
      "metadata": {
        "id": "_996334QWDF1",
        "colab_type": "code",
        "outputId": "46bd9916-0322-40e9-b250-2f2e5c0289e2",
        "colab": {
          "base_uri": "https://localhost:8080/",
          "height": 102
        }
      },
      "source": [
        "#Get order_items where order_item_subtotal is not equal to the product of order_item_quantity and order_item_product_price\n",
        "from pyspark.sql.functions import round \n",
        "order_itemsDF.select('order_item_subtotal', 'order_item_quantity', 'order_item_product_price').filter(order_itemsDF.order_item_subtotal != round((order_itemsDF.order_item_product_price *  order_itemsDF.order_item_quantity), 2)) \\\n",
        "    .withColumn('product_price_per_quanity', round((order_itemsDF.order_item_product_price *  order_itemsDF.order_item_quantity), 2)) \\\n",
        "    .show()"
      ],
      "execution_count": 0,
      "outputs": [
        {
          "output_type": "stream",
          "text": [
            "+-------------------+-------------------+------------------------+-------------------------+\n",
            "|order_item_subtotal|order_item_quantity|order_item_product_price|product_price_per_quanity|\n",
            "+-------------------+-------------------+------------------------+-------------------------+\n",
            "+-------------------+-------------------+------------------------+-------------------------+\n",
            "\n"
          ],
          "name": "stdout"
        }
      ]
    },
    {
      "cell_type": "code",
      "metadata": {
        "id": "h9k2S5lQxlzh",
        "colab_type": "code",
        "outputId": "2f2862fb-bdee-4b67-c11f-235e73940b1a",
        "colab": {
          "base_uri": "https://localhost:8080/",
          "height": 595
        }
      },
      "source": [
        "help(order_itemsDF.join)"
      ],
      "execution_count": 0,
      "outputs": [
        {
          "output_type": "stream",
          "text": [
            "Help on method join in module pyspark.sql.dataframe:\n",
            "\n",
            "join(other, on=None, how=None) method of pyspark.sql.dataframe.DataFrame instance\n",
            "    Joins with another :class:`DataFrame`, using the given join expression.\n",
            "    \n",
            "    :param other: Right side of the join\n",
            "    :param on: a string for the join column name, a list of column names,\n",
            "        a join expression (Column), or a list of Columns.\n",
            "        If `on` is a string or a list of strings indicating the name of the join column(s),\n",
            "        the column(s) must exist on both sides, and this performs an equi-join.\n",
            "    :param how: str, default ``inner``. Must be one of: ``inner``, ``cross``, ``outer``,\n",
            "        ``full``, ``full_outer``, ``left``, ``left_outer``, ``right``, ``right_outer``,\n",
            "        ``left_semi``, and ``left_anti``.\n",
            "    \n",
            "    The following performs a full outer join between ``df1`` and ``df2``.\n",
            "    \n",
            "    >>> df.join(df2, df.name == df2.name, 'outer').select(df.name, df2.height).collect()\n",
            "    [Row(name=None, height=80), Row(name='Bob', height=85), Row(name='Alice', height=None)]\n",
            "    \n",
            "    >>> df.join(df2, 'name', 'outer').select('name', 'height').collect()\n",
            "    [Row(name='Tom', height=80), Row(name='Bob', height=85), Row(name='Alice', height=None)]\n",
            "    \n",
            "    >>> cond = [df.name == df3.name, df.age == df3.age]\n",
            "    >>> df.join(df3, cond, 'outer').select(df.name, df3.age).collect()\n",
            "    [Row(name='Alice', age=2), Row(name='Bob', age=5)]\n",
            "    \n",
            "    >>> df.join(df2, 'name').select(df.name, df2.height).collect()\n",
            "    [Row(name='Bob', height=85)]\n",
            "    \n",
            "    >>> df.join(df4, ['name', 'age']).select(df.name, df.age).collect()\n",
            "    [Row(name='Bob', age=5)]\n",
            "    \n",
            "    .. versionadded:: 1.3\n",
            "\n"
          ],
          "name": "stdout"
        }
      ]
    },
    {
      "cell_type": "code",
      "metadata": {
        "id": "FPPShWTPiNx3",
        "colab_type": "code",
        "outputId": "fac5986d-cb38-4721-ad5c-a2ac38e03750",
        "colab": {
          "base_uri": "https://localhost:8080/",
          "height": 459
        }
      },
      "source": [
        "#Get all order_items corresponding to COMPLETE and CLOSED orders\n",
        "orderItemsCompleteClosed =  order_itemsDF.select(order_itemsDF.order_item_order_id)\\\n",
        "    .join(ordersDF, on = order_itemsDF.order_item_order_id == ordersDF.order_id, how='inner')\\\n",
        "    .filter(ordersDF.order_status.isin('COMPLETE', 'CLOSED'))\\\n",
        "    .show()"
      ],
      "execution_count": 0,
      "outputs": [
        {
          "output_type": "stream",
          "text": [
            "+-------------------+--------+--------------------+-----------------+------------+\n",
            "|order_item_order_id|order_id|          order_date|order_customer_id|order_status|\n",
            "+-------------------+--------+--------------------+-----------------+------------+\n",
            "|                  1|       1|2013-07-25 00:00:...|            11599|      CLOSED|\n",
            "|                  4|       4|2013-07-25 00:00:...|             8827|      CLOSED|\n",
            "|                  4|       4|2013-07-25 00:00:...|             8827|      CLOSED|\n",
            "|                  4|       4|2013-07-25 00:00:...|             8827|      CLOSED|\n",
            "|                  4|       4|2013-07-25 00:00:...|             8827|      CLOSED|\n",
            "|                  5|       5|2013-07-25 00:00:...|            11318|    COMPLETE|\n",
            "|                  5|       5|2013-07-25 00:00:...|            11318|    COMPLETE|\n",
            "|                  5|       5|2013-07-25 00:00:...|            11318|    COMPLETE|\n",
            "|                  5|       5|2013-07-25 00:00:...|            11318|    COMPLETE|\n",
            "|                  5|       5|2013-07-25 00:00:...|            11318|    COMPLETE|\n",
            "|                  7|       7|2013-07-25 00:00:...|             4530|    COMPLETE|\n",
            "|                  7|       7|2013-07-25 00:00:...|             4530|    COMPLETE|\n",
            "|                  7|       7|2013-07-25 00:00:...|             4530|    COMPLETE|\n",
            "|                 12|      12|2013-07-25 00:00:...|             1837|      CLOSED|\n",
            "|                 12|      12|2013-07-25 00:00:...|             1837|      CLOSED|\n",
            "|                 12|      12|2013-07-25 00:00:...|             1837|      CLOSED|\n",
            "|                 12|      12|2013-07-25 00:00:...|             1837|      CLOSED|\n",
            "|                 12|      12|2013-07-25 00:00:...|             1837|      CLOSED|\n",
            "|                 15|      15|2013-07-25 00:00:...|             2568|    COMPLETE|\n",
            "|                 15|      15|2013-07-25 00:00:...|             2568|    COMPLETE|\n",
            "+-------------------+--------+--------------------+-----------------+------------+\n",
            "only showing top 20 rows\n",
            "\n"
          ],
          "name": "stdout"
        }
      ]
    },
    {
      "cell_type": "code",
      "metadata": {
        "id": "gQP-KSS4jgC4",
        "colab_type": "code",
        "outputId": "f7dcbeff-8c0c-4aea-ae2a-cf3523276dcb",
        "colab": {
          "base_uri": "https://localhost:8080/",
          "height": 479
        }
      },
      "source": [
        "#Get all orders where there is no corresponding order_items\n",
        "result = ordersDF.join(order_itemsDF, on = ordersDF.order_id == order_itemsDF.order_item_order_id, how='left_outer')\\\n",
        "    .filter('order_item_order_id is null')\\\n",
        "    .show()"
      ],
      "execution_count": 0,
      "outputs": [
        {
          "output_type": "stream",
          "text": [
            "+--------+--------------------+-----------------+---------------+-------------+-------------------+---------------------+-------------------+-------------------+------------------------+\n",
            "|order_id|          order_date|order_customer_id|   order_status|order_item_id|order_item_order_id|order_item_product_id|order_item_quantity|order_item_subtotal|order_item_product_price|\n",
            "+--------+--------------------+-----------------+---------------+-------------+-------------------+---------------------+-------------------+-------------------+------------------------+\n",
            "|       3|2013-07-25 00:00:...|            12111|       COMPLETE|         null|               null|                 null|               null|               null|                    null|\n",
            "|       6|2013-07-25 00:00:...|             7130|       COMPLETE|         null|               null|                 null|               null|               null|                    null|\n",
            "|      22|2013-07-25 00:00:...|              333|       COMPLETE|         null|               null|                 null|               null|               null|                    null|\n",
            "|      26|2013-07-25 00:00:...|             7562|       COMPLETE|         null|               null|                 null|               null|               null|                    null|\n",
            "|      32|2013-07-25 00:00:...|             3960|       COMPLETE|         null|               null|                 null|               null|               null|                    null|\n",
            "|      40|2013-07-25 00:00:...|            12092|PENDING_PAYMENT|         null|               null|                 null|               null|               null|                    null|\n",
            "|      47|2013-07-25 00:00:...|             8487|PENDING_PAYMENT|         null|               null|                 null|               null|               null|                    null|\n",
            "|      53|2013-07-25 00:00:...|             4701|     PROCESSING|         null|               null|                 null|               null|               null|                    null|\n",
            "|      54|2013-07-25 00:00:...|            10628|PENDING_PAYMENT|         null|               null|                 null|               null|               null|                    null|\n",
            "|      55|2013-07-25 00:00:...|             2052|        PENDING|         null|               null|                 null|               null|               null|                    null|\n",
            "|      60|2013-07-25 00:00:...|             8365|PENDING_PAYMENT|         null|               null|                 null|               null|               null|                    null|\n",
            "|      76|2013-07-25 00:00:...|             6898|       COMPLETE|         null|               null|                 null|               null|               null|                    null|\n",
            "|      78|2013-07-25 00:00:...|             8619| PAYMENT_REVIEW|         null|               null|                 null|               null|               null|                    null|\n",
            "|      79|2013-07-25 00:00:...|             7327|PENDING_PAYMENT|         null|               null|                 null|               null|               null|                    null|\n",
            "|      80|2013-07-25 00:00:...|             3007|       COMPLETE|         null|               null|                 null|               null|               null|                    null|\n",
            "|      82|2013-07-25 00:00:...|             3566|PENDING_PAYMENT|         null|               null|                 null|               null|               null|                    null|\n",
            "|      85|2013-07-25 00:00:...|             1485|        PENDING|         null|               null|                 null|               null|               null|                    null|\n",
            "|      86|2013-07-25 00:00:...|             6680|PENDING_PAYMENT|         null|               null|                 null|               null|               null|                    null|\n",
            "|      89|2013-07-25 00:00:...|              824|        ON_HOLD|         null|               null|                 null|               null|               null|                    null|\n",
            "|      90|2013-07-25 00:00:...|             9131|         CLOSED|         null|               null|                 null|               null|               null|                    null|\n",
            "+--------+--------------------+-----------------+---------------+-------------+-------------------+---------------------+-------------------+-------------------+------------------------+\n",
            "only showing top 20 rows\n",
            "\n"
          ],
          "name": "stdout"
        }
      ]
    },
    {
      "cell_type": "code",
      "metadata": {
        "id": "3uFkQF4wluxD",
        "colab_type": "code",
        "outputId": "809008ca-d833-47b1-8f16-204439da4866",
        "colab": {
          "base_uri": "https://localhost:8080/",
          "height": 207
        }
      },
      "source": [
        "# check if there are any order_items where there is no corresponding order in the orders data set\n",
        "result = ordersDF.join(order_itemsDF, on = ordersDF.order_id == order_itemsDF.order_item_order_id, how='right_outer')\\\n",
        "    .filter('order_id is null')\\\n",
        "    .show()\n",
        "order_itemsDF.filter('order_item_order_id is null').show()"
      ],
      "execution_count": 0,
      "outputs": [
        {
          "output_type": "stream",
          "text": [
            "+--------+----------+-----------------+------------+-------------+-------------------+---------------------+-------------------+-------------------+------------------------+\n",
            "|order_id|order_date|order_customer_id|order_status|order_item_id|order_item_order_id|order_item_product_id|order_item_quantity|order_item_subtotal|order_item_product_price|\n",
            "+--------+----------+-----------------+------------+-------------+-------------------+---------------------+-------------------+-------------------+------------------------+\n",
            "+--------+----------+-----------------+------------+-------------+-------------------+---------------------+-------------------+-------------------+------------------------+\n",
            "\n",
            "+-------------+-------------------+---------------------+-------------------+-------------------+------------------------+\n",
            "|order_item_id|order_item_order_id|order_item_product_id|order_item_quantity|order_item_subtotal|order_item_product_price|\n",
            "+-------------+-------------------+---------------------+-------------------+-------------------+------------------------+\n",
            "+-------------+-------------------+---------------------+-------------------+-------------------+------------------------+\n",
            "\n"
          ],
          "name": "stdout"
        }
      ]
    },
    {
      "cell_type": "code",
      "metadata": {
        "id": "bZglPh1ipjt-",
        "colab_type": "code",
        "outputId": "a00775ab-a282-41a9-f770-1e9adf82a0a7",
        "colab": {
          "base_uri": "https://localhost:8080/",
          "height": 119
        }
      },
      "source": [
        "#Agg functions on orerItems DataFrame\n",
        "from pyspark.sql.functions import round\n",
        "orderItemSubTotals  = order_itemsDF.agg({\"order_item_subtotal\": \"avg\"})\\\n",
        "    .select(round('avg(order_item_subtotal)', 2).alias('avg_item_subtotal'))\n",
        "orderItemSubTotals.show()"
      ],
      "execution_count": 0,
      "outputs": [
        {
          "output_type": "stream",
          "text": [
            "+-----------------+\n",
            "|avg_item_subtotal|\n",
            "+-----------------+\n",
            "|           199.32|\n",
            "+-----------------+\n",
            "\n"
          ],
          "name": "stdout"
        }
      ]
    },
    {
      "cell_type": "code",
      "metadata": {
        "id": "3O2Ooq76sbOd",
        "colab_type": "code",
        "outputId": "630f7530-7869-41c8-cafc-c28ec552cea7",
        "colab": {
          "base_uri": "https://localhost:8080/",
          "height": 408
        }
      },
      "source": [
        "help(order_itemsDF.groupBy)"
      ],
      "execution_count": 0,
      "outputs": [
        {
          "output_type": "stream",
          "text": [
            "Help on method groupBy in module pyspark.sql.dataframe:\n",
            "\n",
            "groupBy(*cols) method of pyspark.sql.dataframe.DataFrame instance\n",
            "    Groups the :class:`DataFrame` using the specified columns,\n",
            "    so we can run aggregation on them. See :class:`GroupedData`\n",
            "    for all the available aggregate functions.\n",
            "    \n",
            "    :func:`groupby` is an alias for :func:`groupBy`.\n",
            "    \n",
            "    :param cols: list of columns to group by.\n",
            "        Each element should be a column name (string) or an expression (:class:`Column`).\n",
            "    \n",
            "    >>> df.groupBy().avg().collect()\n",
            "    [Row(avg(age)=3.5)]\n",
            "    >>> sorted(df.groupBy('name').agg({'age': 'mean'}).collect())\n",
            "    [Row(name='Alice', avg(age)=2.0), Row(name='Bob', avg(age)=5.0)]\n",
            "    >>> sorted(df.groupBy(df.name).avg().collect())\n",
            "    [Row(name='Alice', avg(age)=2.0), Row(name='Bob', avg(age)=5.0)]\n",
            "    >>> sorted(df.groupBy(['name', df.age]).count().collect())\n",
            "    [Row(name='Alice', age=2, count=1), Row(name='Bob', age=5, count=1)]\n",
            "    \n",
            "    .. versionadded:: 1.3\n",
            "\n"
          ],
          "name": "stdout"
        }
      ]
    },
    {
      "cell_type": "code",
      "metadata": {
        "id": "5kvDtRl2rxPC",
        "colab_type": "code",
        "outputId": "87378332-6911-4875-a892-2259507ccf7f",
        "colab": {
          "base_uri": "https://localhost:8080/",
          "height": 459
        }
      },
      "source": [
        "#Get revenue of each order_id\n",
        "from pyspark.sql.functions import sum\n",
        "#order_itemsDF.agg({order_itemsDF.order_item_subtotal, \"avg\"})\\\n",
        "#    .groupBy(order_itemsDF.order_item_order_id)\\\n",
        "#    .show()\n",
        "#Important : see video\n",
        "order_itemsDF.groupBy('order_item_order_id')\\\n",
        "    .agg(sum('order_item_subtotal').alias('order_revenue'))\\\n",
        "    .show()"
      ],
      "execution_count": 0,
      "outputs": [
        {
          "output_type": "stream",
          "text": [
            "+-------------------+------------------+\n",
            "|order_item_order_id|     order_revenue|\n",
            "+-------------------+------------------+\n",
            "|                148|479.99000549316406|\n",
            "|                463| 829.9200096130371|\n",
            "|                471|169.98000717163086|\n",
            "|                496|  441.950008392334|\n",
            "|               1088|249.97000885009766|\n",
            "|               1580|299.95001220703125|\n",
            "|               1591| 439.8599967956543|\n",
            "|               1645| 1509.790023803711|\n",
            "|               2366| 299.9700012207031|\n",
            "|               2659| 724.9100151062012|\n",
            "|               2866|  569.960018157959|\n",
            "|               3175|209.97000122070312|\n",
            "|               3749|143.97000122070312|\n",
            "|               3794|299.95001220703125|\n",
            "|               3918| 829.9300155639648|\n",
            "|               3997| 579.9500122070312|\n",
            "|               4101|129.99000549316406|\n",
            "|               4519|  79.9800033569336|\n",
            "|               4818| 399.9800109863281|\n",
            "|               4900| 179.9700050354004|\n",
            "+-------------------+------------------+\n",
            "only showing top 20 rows\n",
            "\n"
          ],
          "name": "stdout"
        }
      ]
    },
    {
      "cell_type": "code",
      "metadata": {
        "id": "tp1LkQCkp7Nk",
        "colab_type": "code",
        "outputId": "0112af5d-a672-49ea-928c-fc8755ab5e90",
        "colab": {
          "base_uri": "https://localhost:8080/",
          "height": 255
        }
      },
      "source": [
        "#Get count by status from orders\n",
        "from pyspark.sql.functions import count\n",
        "ordersDF.groupBy('order_status')\\\n",
        "    .agg(count('order_status').alias('order_per_status'))\\\n",
        "    .show()"
      ],
      "execution_count": 0,
      "outputs": [
        {
          "output_type": "stream",
          "text": [
            "+---------------+----------------+\n",
            "|   order_status|order_per_status|\n",
            "+---------------+----------------+\n",
            "|PENDING_PAYMENT|           15030|\n",
            "|       COMPLETE|           22899|\n",
            "|        ON_HOLD|            3798|\n",
            "| PAYMENT_REVIEW|             729|\n",
            "|     PROCESSING|            8275|\n",
            "|         CLOSED|            7556|\n",
            "|SUSPECTED_FRAUD|            1558|\n",
            "|        PENDING|            7610|\n",
            "|       CANCELED|            1428|\n",
            "+---------------+----------------+\n",
            "\n"
          ],
          "name": "stdout"
        }
      ]
    },
    {
      "cell_type": "code",
      "metadata": {
        "id": "p7adOTbR27Gz",
        "colab_type": "code",
        "outputId": "ebca9467-9fd4-4b50-f64d-edd205b8e7b2",
        "colab": {
          "base_uri": "https://localhost:8080/",
          "height": 901
        }
      },
      "source": [
        "#Get daily product Revenue\n",
        "ordersDF.show(truncate=False)\n",
        "order_itemsDF.show(truncate=False)"
      ],
      "execution_count": 0,
      "outputs": [
        {
          "output_type": "stream",
          "text": [
            "+--------+---------------------+-----------------+---------------+\n",
            "|order_id|order_date           |order_customer_id|order_status   |\n",
            "+--------+---------------------+-----------------+---------------+\n",
            "|1       |2013-07-25 00:00:00.0|11599            |CLOSED         |\n",
            "|2       |2013-07-25 00:00:00.0|256              |PENDING_PAYMENT|\n",
            "|3       |2013-07-25 00:00:00.0|12111            |COMPLETE       |\n",
            "|4       |2013-07-25 00:00:00.0|8827             |CLOSED         |\n",
            "|5       |2013-07-25 00:00:00.0|11318            |COMPLETE       |\n",
            "|6       |2013-07-25 00:00:00.0|7130             |COMPLETE       |\n",
            "|7       |2013-07-25 00:00:00.0|4530             |COMPLETE       |\n",
            "|8       |2013-07-25 00:00:00.0|2911             |PROCESSING     |\n",
            "|9       |2013-07-25 00:00:00.0|5657             |PENDING_PAYMENT|\n",
            "|10      |2013-07-25 00:00:00.0|5648             |PENDING_PAYMENT|\n",
            "|11      |2013-07-25 00:00:00.0|918              |PAYMENT_REVIEW |\n",
            "|12      |2013-07-25 00:00:00.0|1837             |CLOSED         |\n",
            "|13      |2013-07-25 00:00:00.0|9149             |PENDING_PAYMENT|\n",
            "|14      |2013-07-25 00:00:00.0|9842             |PROCESSING     |\n",
            "|15      |2013-07-25 00:00:00.0|2568             |COMPLETE       |\n",
            "|16      |2013-07-25 00:00:00.0|7276             |PENDING_PAYMENT|\n",
            "|17      |2013-07-25 00:00:00.0|2667             |COMPLETE       |\n",
            "|18      |2013-07-25 00:00:00.0|1205             |CLOSED         |\n",
            "|19      |2013-07-25 00:00:00.0|9488             |PENDING_PAYMENT|\n",
            "|20      |2013-07-25 00:00:00.0|9198             |PROCESSING     |\n",
            "+--------+---------------------+-----------------+---------------+\n",
            "only showing top 20 rows\n",
            "\n",
            "+-------------+-------------------+---------------------+-------------------+-------------------+------------------------+\n",
            "|order_item_id|order_item_order_id|order_item_product_id|order_item_quantity|order_item_subtotal|order_item_product_price|\n",
            "+-------------+-------------------+---------------------+-------------------+-------------------+------------------------+\n",
            "|1            |1                  |957                  |1                  |299.98             |299.98                  |\n",
            "|2            |2                  |1073                 |1                  |199.99             |199.99                  |\n",
            "|3            |2                  |502                  |5                  |250.0              |50.0                    |\n",
            "|4            |2                  |403                  |1                  |129.99             |129.99                  |\n",
            "|5            |4                  |897                  |2                  |49.98              |24.99                   |\n",
            "|6            |4                  |365                  |5                  |299.95             |59.99                   |\n",
            "|7            |4                  |502                  |3                  |150.0              |50.0                    |\n",
            "|8            |4                  |1014                 |4                  |199.92             |49.98                   |\n",
            "|9            |5                  |957                  |1                  |299.98             |299.98                  |\n",
            "|10           |5                  |365                  |5                  |299.95             |59.99                   |\n",
            "|11           |5                  |1014                 |2                  |99.96              |49.98                   |\n",
            "|12           |5                  |957                  |1                  |299.98             |299.98                  |\n",
            "|13           |5                  |403                  |1                  |129.99             |129.99                  |\n",
            "|14           |7                  |1073                 |1                  |199.99             |199.99                  |\n",
            "|15           |7                  |957                  |1                  |299.98             |299.98                  |\n",
            "|16           |7                  |926                  |5                  |79.95              |15.99                   |\n",
            "|17           |8                  |365                  |3                  |179.97             |59.99                   |\n",
            "|18           |8                  |365                  |5                  |299.95             |59.99                   |\n",
            "|19           |8                  |1014                 |4                  |199.92             |49.98                   |\n",
            "|20           |8                  |502                  |1                  |50.0               |50.0                    |\n",
            "+-------------+-------------------+---------------------+-------------------+-------------------+------------------------+\n",
            "only showing top 20 rows\n",
            "\n"
          ],
          "name": "stdout"
        }
      ]
    },
    {
      "cell_type": "code",
      "metadata": {
        "id": "eJ3exPgw40PQ",
        "colab_type": "code",
        "outputId": "ddd8e334-f8f2-44b4-b513-c20629345123",
        "colab": {
          "base_uri": "https://localhost:8080/",
          "height": 459
        }
      },
      "source": [
        "order_itemsDF.join(ordersDF, on=order_itemsDF.order_item_order_id == ordersDF.order_id,how='inner')\\\n",
        "    .groupBy(ordersDF.order_date, order_itemsDF.order_item_product_id)\\\n",
        "    .agg(round(sum(order_itemsDF.order_item_subtotal),2).alias('daily_product_revenue'), count(order_itemsDF.order_item_id).alias('order_item_count'))\\\n",
        "    .select(order_itemsDF.order_item_product_id, ordersDF.order_date, 'daily_product_revenue', 'order_item_count')\\\n",
        "    .sort(['order_date', 'daily_product_revenue'], ascending=[False, True])\\\n",
        "    .show(truncate=False)\n",
        "#can also order by .sort('order_date', order_itemsDF.order_item_product_id.desc())"
      ],
      "execution_count": 0,
      "outputs": [
        {
          "output_type": "stream",
          "text": [
            "+---------------------+---------------------+---------------------+----------------+\n",
            "|order_item_product_id|order_date           |daily_product_revenue|order_item_count|\n",
            "+---------------------+---------------------+---------------------+----------------+\n",
            "|793                  |2014-07-24 00:00:00.0|14.99                |1               |\n",
            "|886                  |2014-07-24 00:00:00.0|24.99                |1               |\n",
            "|905                  |2014-07-24 00:00:00.0|24.99                |1               |\n",
            "|835                  |2014-07-24 00:00:00.0|31.99                |1               |\n",
            "|703                  |2014-07-24 00:00:00.0|39.98                |1               |\n",
            "|917                  |2014-07-24 00:00:00.0|43.98                |1               |\n",
            "|134                  |2014-07-24 00:00:00.0|50.0                 |1               |\n",
            "|797                  |2014-07-24 00:00:00.0|53.97                |2               |\n",
            "|792                  |2014-07-24 00:00:00.0|74.95                |2               |\n",
            "|897                  |2014-07-24 00:00:00.0|74.97                |1               |\n",
            "|893                  |2014-07-24 00:00:00.0|74.97                |1               |\n",
            "|885                  |2014-07-24 00:00:00.0|99.96                |1               |\n",
            "|725                  |2014-07-24 00:00:00.0|108.0                |1               |\n",
            "|926                  |2014-07-24 00:00:00.0|111.93               |2               |\n",
            "|810                  |2014-07-24 00:00:00.0|119.94               |4               |\n",
            "|642                  |2014-07-24 00:00:00.0|120.0                |1               |\n",
            "|19                   |2014-07-24 00:00:00.0|124.99               |1               |\n",
            "|828                  |2014-07-24 00:00:00.0|127.96               |1               |\n",
            "|278                  |2014-07-24 00:00:00.0|134.97               |1               |\n",
            "|821                  |2014-07-24 00:00:00.0|155.97               |1               |\n",
            "+---------------------+---------------------+---------------------+----------------+\n",
            "only showing top 20 rows\n",
            "\n"
          ],
          "name": "stdout"
        }
      ]
    },
    {
      "cell_type": "markdown",
      "metadata": {
        "id": "9fOHv1_qfu6n",
        "colab_type": "text"
      },
      "source": [
        "# **DATAFRAME FROM JSON FILE**"
      ]
    },
    {
      "cell_type": "code",
      "metadata": {
        "id": "FwfyC6vRf2qY",
        "colab_type": "code",
        "colab": {}
      },
      "source": [
        "ordersDF = spark.read.json(\"/content/drive/My Drive/BIG DATA/pyspark/CCA-175/dataset/retail_db_json/orders\")"
      ],
      "execution_count": 0,
      "outputs": []
    },
    {
      "cell_type": "code",
      "metadata": {
        "id": "8SmKWqfLgL8-",
        "colab_type": "code",
        "colab": {}
      },
      "source": [
        "ordersDF.printSchema()"
      ],
      "execution_count": 0,
      "outputs": []
    },
    {
      "cell_type": "code",
      "metadata": {
        "id": "G7xuKctkgRwi",
        "colab_type": "code",
        "colab": {}
      },
      "source": [
        "ordersDF.first()"
      ],
      "execution_count": 0,
      "outputs": []
    },
    {
      "cell_type": "code",
      "metadata": {
        "id": "HlS9nmV7gZ3T",
        "colab_type": "code",
        "colab": {}
      },
      "source": [
        "ordersDF.select(\"order_id\", \"order_date\").show(10, False)"
      ],
      "execution_count": 0,
      "outputs": []
    },
    {
      "cell_type": "markdown",
      "metadata": {
        "id": "6oOIC5YLYj3c",
        "colab_type": "text"
      },
      "source": [
        "# **WINDOWING FUNCTIONS**"
      ]
    },
    {
      "cell_type": "code",
      "metadata": {
        "id": "d-wRyupeYi42",
        "colab_type": "code",
        "colab": {}
      },
      "source": [
        "orderItemsDF = spark.read.json(\"/content/drive/My Drive/BIG DATA/pyspark/CCA-175/dataset/retail_db_json/order_items/part-r-00000-6b83977e-3f20-404b-9b5f-29376ab1419e\")"
      ],
      "execution_count": 0,
      "outputs": []
    },
    {
      "cell_type": "code",
      "metadata": {
        "id": "BhlWQPEsaZSv",
        "colab_type": "code",
        "outputId": "f63aa1e5-b29e-4eac-ab37-ebb8328ff05c",
        "colab": {
          "base_uri": "https://localhost:8080/",
          "height": 153
        }
      },
      "source": [
        "orderItemsDF.printSchema()"
      ],
      "execution_count": 0,
      "outputs": [
        {
          "output_type": "stream",
          "text": [
            "root\n",
            " |-- order_item_id: long (nullable = true)\n",
            " |-- order_item_order_id: long (nullable = true)\n",
            " |-- order_item_product_id: long (nullable = true)\n",
            " |-- order_item_product_price: double (nullable = true)\n",
            " |-- order_item_quantity: long (nullable = true)\n",
            " |-- order_item_subtotal: double (nullable = true)\n",
            "\n"
          ],
          "name": "stdout"
        }
      ]
    },
    {
      "cell_type": "code",
      "metadata": {
        "id": "E5JI1qSPahii",
        "colab_type": "code",
        "colab": {}
      },
      "source": [
        "from pyspark.sql.window import *\n",
        "from pyspark.sql.functions import min, max, avg"
      ],
      "execution_count": 0,
      "outputs": []
    },
    {
      "cell_type": "code",
      "metadata": {
        "id": "LGlvh48Kdvk5",
        "colab_type": "code",
        "outputId": "175ff88e-3d3e-498a-c7f0-40871c114567",
        "colab": {
          "base_uri": "https://localhost:8080/",
          "height": 459
        }
      },
      "source": [
        "orders_orderItems_DF = ordersDF.filter(ordersDF.order_status.isin('COMPLETE', 'CLOSED')).join(order_itemsDF, on=ordersDF.order_id == order_itemsDF.order_item_order_id,how='inner')\\\n",
        "    .groupBy('order_date', 'order_item_product_id')\\\n",
        "    .agg(round(sum('order_item_subtotal'),2).alias('revenue'))\\\n",
        "    .sort('order_date', 'revenue',ascending=[True,False])\n",
        "orders_orderItems_DF.show(truncate=False)"
      ],
      "execution_count": 0,
      "outputs": [
        {
          "output_type": "stream",
          "text": [
            "+---------------------+---------------------+-------+\n",
            "|order_date           |order_item_product_id|revenue|\n",
            "+---------------------+---------------------+-------+\n",
            "|2013-07-25 00:00:00.0|1004                 |5599.72|\n",
            "|2013-07-25 00:00:00.0|191                  |5099.49|\n",
            "|2013-07-25 00:00:00.0|957                  |4499.7 |\n",
            "|2013-07-25 00:00:00.0|365                  |3359.44|\n",
            "|2013-07-25 00:00:00.0|1073                 |2999.85|\n",
            "|2013-07-25 00:00:00.0|1014                 |2798.88|\n",
            "|2013-07-25 00:00:00.0|403                  |1949.85|\n",
            "|2013-07-25 00:00:00.0|502                  |1650.0 |\n",
            "|2013-07-25 00:00:00.0|627                  |1079.73|\n",
            "|2013-07-25 00:00:00.0|226                  |599.99 |\n",
            "|2013-07-25 00:00:00.0|24                   |319.96 |\n",
            "|2013-07-25 00:00:00.0|821                  |207.96 |\n",
            "|2013-07-25 00:00:00.0|625                  |199.99 |\n",
            "|2013-07-25 00:00:00.0|705                  |119.99 |\n",
            "|2013-07-25 00:00:00.0|572                  |119.97 |\n",
            "|2013-07-25 00:00:00.0|666                  |109.99 |\n",
            "|2013-07-25 00:00:00.0|725                  |108.0  |\n",
            "|2013-07-25 00:00:00.0|134                  |100.0  |\n",
            "|2013-07-25 00:00:00.0|906                  |99.96  |\n",
            "|2013-07-25 00:00:00.0|828                  |95.97  |\n",
            "+---------------------+---------------------+-------+\n",
            "only showing top 20 rows\n",
            "\n"
          ],
          "name": "stdout"
        }
      ]
    },
    {
      "cell_type": "code",
      "metadata": {
        "id": "7BVHzXDEeaLh",
        "colab_type": "code",
        "outputId": "87a62a04-5d64-457f-fb3d-c33dc93b5cc5",
        "colab": {
          "base_uri": "https://localhost:8080/",
          "height": 459
        }
      },
      "source": [
        "orders_orderItems_DF = ordersDF.filter(ordersDF.order_status.isin('COMPLETE', 'CLOSED')).join(order_itemsDF, on=ordersDF.order_id == order_itemsDF.order_item_order_id,how='inner')\n",
        "orders_orderItems_DF.select('order_date', 'order_item_product_id', 'order_item_subtotal')\\\n",
        "    .withColumn('daily_revenue', round(sum('order_item_subtotal').over(Window.partitionBy('order_date','order_item_product_id')),2))\\\n",
        "    .sort('order_date', 'daily_revenue',ascending=[True,False])\\\n",
        "    .select('order_date', 'order_item_product_id', 'daily_revenue')\\\n",
        "    .show(truncate=False)"
      ],
      "execution_count": 0,
      "outputs": [
        {
          "output_type": "stream",
          "text": [
            "+---------------------+---------------------+-------------+\n",
            "|order_date           |order_item_product_id|daily_revenue|\n",
            "+---------------------+---------------------+-------------+\n",
            "|2013-07-25 00:00:00.0|1004                 |5599.72      |\n",
            "|2013-07-25 00:00:00.0|1004                 |5599.72      |\n",
            "|2013-07-25 00:00:00.0|1004                 |5599.72      |\n",
            "|2013-07-25 00:00:00.0|1004                 |5599.72      |\n",
            "|2013-07-25 00:00:00.0|1004                 |5599.72      |\n",
            "|2013-07-25 00:00:00.0|1004                 |5599.72      |\n",
            "|2013-07-25 00:00:00.0|1004                 |5599.72      |\n",
            "|2013-07-25 00:00:00.0|1004                 |5599.72      |\n",
            "|2013-07-25 00:00:00.0|1004                 |5599.72      |\n",
            "|2013-07-25 00:00:00.0|1004                 |5599.72      |\n",
            "|2013-07-25 00:00:00.0|1004                 |5599.72      |\n",
            "|2013-07-25 00:00:00.0|1004                 |5599.72      |\n",
            "|2013-07-25 00:00:00.0|1004                 |5599.72      |\n",
            "|2013-07-25 00:00:00.0|1004                 |5599.72      |\n",
            "|2013-07-25 00:00:00.0|191                  |5099.49      |\n",
            "|2013-07-25 00:00:00.0|191                  |5099.49      |\n",
            "|2013-07-25 00:00:00.0|191                  |5099.49      |\n",
            "|2013-07-25 00:00:00.0|191                  |5099.49      |\n",
            "|2013-07-25 00:00:00.0|191                  |5099.49      |\n",
            "|2013-07-25 00:00:00.0|191                  |5099.49      |\n",
            "+---------------------+---------------------+-------------+\n",
            "only showing top 20 rows\n",
            "\n"
          ],
          "name": "stdout"
        }
      ]
    }
  ]
}