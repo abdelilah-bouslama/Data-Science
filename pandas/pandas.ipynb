{
  "nbformat": 4,
  "nbformat_minor": 0,
  "metadata": {
    "colab": {
      "name": "pandas.ipynb",
      "provenance": [],
      "collapsed_sections": [],
      "mount_file_id": "1KczN6dhMGMN4vlZ5z6bTykMYEcVdm-Dc",
      "authorship_tag": "ABX9TyPvftiAmo9BuyprawXZZXTG",
      "include_colab_link": true
    },
    "kernelspec": {
      "name": "python3",
      "display_name": "Python 3"
    }
  },
  "cells": [
    {
      "cell_type": "markdown",
      "metadata": {
        "id": "view-in-github",
        "colab_type": "text"
      },
      "source": [
        "<a href=\"https://colab.research.google.com/github/abdelilah-bouslama/Data-Science/blob/master/pandas/pandas.ipynb\" target=\"_parent\"><img src=\"https://colab.research.google.com/assets/colab-badge.svg\" alt=\"Open In Colab\"/></a>"
      ]
    },
    {
      "cell_type": "markdown",
      "metadata": {
        "id": "rQ6g7E7j9qXy",
        "colab_type": "text"
      },
      "source": [
        " **FOLLOW** https://www.youtube.com/watch?v=9Z7wvippeko&list=PLQVvvaa0QuDc-3szzjeP6N6b0aDrrKyL-&index=3"
      ]
    },
    {
      "cell_type": "code",
      "metadata": {
        "id": "qLXpnsSdyB7g",
        "colab_type": "code",
        "colab": {}
      },
      "source": [
        "import pandas as pd\n",
        "import numpy as np\n",
        "import matplotlib as plt\n",
        "from matplotlib import style\n",
        "style.use('ggplot')"
      ],
      "execution_count": 0,
      "outputs": []
    },
    {
      "cell_type": "code",
      "metadata": {
        "id": "cO6tymAD2rk8",
        "colab_type": "code",
        "colab": {}
      },
      "source": [
        "df = pd.DataFrame([\n",
        "          {\n",
        "              \"Id\"        : 1,\n",
        "              \"firstName\" : \"Abdelilah\",\n",
        "              \"lastName\"  : \"Bouslama\",\n",
        "              \"Age\"       : 31     \n",
        "          },\n",
        "          {\n",
        "              \"Id\"        : 2,\n",
        "              \"firstName\" : \"Mariya\",\n",
        "              \"lastName\"  : \"Bouslama\",\n",
        "              \"Age\"       : 2 \n",
        "          },\n",
        "          {\n",
        "              \"Id\"        : 3,\n",
        "              \"firstName\" : \"Fati\",\n",
        "              \"lastName\"  : \"El yamani\",\n",
        "              \"Age\"       : 30\n",
        "          }\n",
        "    ])\n",
        "df = df.set_index(\"Id\") #  or df.set_index(\"Id\", inplace=True)\n",
        "#print(df.head())\n",
        "print(df[\"lastName\"]) # or print(df.lastName)\n",
        "print(df[[\"lastName\", \"firstName\"]])\n",
        "#rint(type(df.to_numpy()))\n",
        "#print(df.tail(2))\n"
      ],
      "execution_count": 0,
      "outputs": []
    },
    {
      "cell_type": "code",
      "metadata": {
        "id": "5ZiqVLdK8l1o",
        "colab_type": "code",
        "colab": {}
      },
      "source": [
        "df = pd.read_csv(\"/content/drive/My Drive/BIG DATA/Python/datatset/ZILLOW-Z77006_ZMTY.csv\", index_col=0)\n",
        "df.rename(columns={'Value':'number'}, inplace=True)\n",
        "df.head()"
      ],
      "execution_count": 0,
      "outputs": []
    },
    {
      "cell_type": "markdown",
      "metadata": {
        "id": "Tf_CQ8xGL5tc",
        "colab_type": "text"
      },
      "source": [
        "NEED to review this [video](https://www.youtube.com/watch?v=ylIRlTFt_Fk&list=PLQVvvaa0QuDc-3szzjeP6N6b0aDrrKyL-&index=5)"
      ]
    },
    {
      "cell_type": "markdown",
      "metadata": {
        "id": "NArn1s-ZWWyx",
        "colab_type": "text"
      },
      "source": [
        "**MERGING && JOINING**"
      ]
    },
    {
      "cell_type": "code",
      "metadata": {
        "id": "Ap7ol4L_RqII",
        "colab_type": "code",
        "colab": {}
      },
      "source": [
        "import pandas as pd\n",
        "\n",
        "\n",
        "\n",
        "df2 = pd.DataFrame({'HPI':[80,85,88,85],\n",
        "                    'Int_rate':[2, 3, 2, 2],\n",
        "                    'US_GDP_Thousands':[50, 55, 65, 55]},\n",
        "                   index = [2005, 2006, 2007, 2008])\n",
        "df1 = pd.DataFrame({'HPI':[80,85,88,85],\n",
        "                    'Int_rate':[2, 3, 2, 2],\n",
        "                    'US_GDP_Thousands':[50, 55, 65, 55]},\n",
        "                   index = [2001, 2002, 2003, 2004])\n",
        "df3 = pd.DataFrame({'HPI':[80,85,88,85],\n",
        "                    'Unemployment':[7, 8, 9, 6],\n",
        "                    'Low_tier_HPI':[50, 52, 50, 53]},\n",
        "                   index = [2001, 2002, 2003, 2004])\n"
      ],
      "execution_count": 0,
      "outputs": []
    },
    {
      "cell_type": "code",
      "metadata": {
        "id": "A7Xm_yvBWR68",
        "colab_type": "code",
        "colab": {}
      },
      "source": [
        "#merging\n",
        "df1.set_index('HPI', inplace=True)\n",
        "df3.set_index('HPI', inplace=True)\n",
        "pd.merge(df1,df3, on='HPI')\n",
        "#pd.merge(df1,df2, on =['HPI', 'Int_rate'])\n",
        "#pd.merge(df1,df2, on =['Int_rate'])"
      ],
      "execution_count": 0,
      "outputs": []
    },
    {
      "cell_type": "code",
      "metadata": {
        "id": "mH-6iC1LWr1i",
        "colab_type": "code",
        "colab": {}
      },
      "source": [
        "df1.set_index('HPI', inplace=True)\n",
        "df3.set_index('HPI', inplace=True)\n",
        "joined = df1.join(df3)\n",
        "print(joined)"
      ],
      "execution_count": 0,
      "outputs": []
    },
    {
      "cell_type": "code",
      "metadata": {
        "id": "xEJ7KKV_CvcL",
        "colab_type": "code",
        "colab": {}
      },
      "source": [
        "!pip install --upgrade quandl"
      ],
      "execution_count": 0,
      "outputs": []
    },
    {
      "cell_type": "code",
      "metadata": {
        "id": "Zh2UB8_EDIGP",
        "colab_type": "code",
        "colab": {}
      },
      "source": [
        "import quandl\n",
        "def getData(state):\n",
        "  return quandl.get('FMAC/HPI_'+state, authtoken= 'k7qzTm_e7xp72hyBbTnY')\n",
        "  #df = quandl.get('FMAC/HPI_'+prefix, authtoken= 'k7qzTm_e7xp72hyBbTnY')\n",
        "  #return df"
      ],
      "execution_count": 0,
      "outputs": []
    },
    {
      "cell_type": "code",
      "metadata": {
        "id": "yxWPMNxHIKil",
        "colab_type": "code",
        "colab": {}
      },
      "source": [
        "def getStates():\n",
        "  df_html = pd.read_html(\"https://simple.wikipedia.org/wiki/List_of_U.S._states\", index_col=0)\n",
        "  return np.array(df_html[0])[:,0]"
      ],
      "execution_count": 0,
      "outputs": []
    },
    {
      "cell_type": "code",
      "metadata": {
        "id": "-JX14Sa9jgyJ",
        "colab_type": "code",
        "colab": {}
      },
      "source": [
        "states = getStates()\n",
        "states = list(filter(lambda state: state != None , states))\n",
        "states = pd.DataFrame(list(map(lambda state: getData(state), states)))\n",
        "#print(squared)"
      ],
      "execution_count": 0,
      "outputs": []
    },
    {
      "cell_type": "code",
      "metadata": {
        "id": "1dlhnSi8oGBG",
        "colab_type": "code",
        "colab": {
          "base_uri": "https://localhost:8080/",
          "height": 204
        },
        "outputId": "1771de63-4322-4f6f-86c4-5ff9dfdd8274"
      },
      "source": [
        "states.head()"
      ],
      "execution_count": 44,
      "outputs": [
        {
          "output_type": "execute_result",
          "data": {
            "text/html": [
              "<div>\n",
              "<style scoped>\n",
              "    .dataframe tbody tr th:only-of-type {\n",
              "        vertical-align: middle;\n",
              "    }\n",
              "\n",
              "    .dataframe tbody tr th {\n",
              "        vertical-align: top;\n",
              "    }\n",
              "\n",
              "    .dataframe thead th {\n",
              "        text-align: right;\n",
              "    }\n",
              "</style>\n",
              "<table border=\"1\" class=\"dataframe\">\n",
              "  <thead>\n",
              "    <tr style=\"text-align: right;\">\n",
              "      <th></th>\n",
              "      <th>0</th>\n",
              "    </tr>\n",
              "  </thead>\n",
              "  <tbody>\n",
              "    <tr>\n",
              "      <th>0</th>\n",
              "      <td>NSA Value    SA Value\n",
              "Date       ...</td>\n",
              "    </tr>\n",
              "    <tr>\n",
              "      <th>1</th>\n",
              "      <td>NSA Value    SA Value\n",
              "Date       ...</td>\n",
              "    </tr>\n",
              "    <tr>\n",
              "      <th>2</th>\n",
              "      <td>NSA Value    SA Value\n",
              "Date       ...</td>\n",
              "    </tr>\n",
              "    <tr>\n",
              "      <th>3</th>\n",
              "      <td>NSA Value    SA Value\n",
              "Date       ...</td>\n",
              "    </tr>\n",
              "    <tr>\n",
              "      <th>4</th>\n",
              "      <td>NSA Value    SA Value\n",
              "Date       ...</td>\n",
              "    </tr>\n",
              "  </tbody>\n",
              "</table>\n",
              "</div>"
            ],
            "text/plain": [
              "                                                   0\n",
              "0               NSA Value    SA Value\n",
              "Date       ...\n",
              "1               NSA Value    SA Value\n",
              "Date       ...\n",
              "2               NSA Value    SA Value\n",
              "Date       ...\n",
              "3               NSA Value    SA Value\n",
              "Date       ...\n",
              "4               NSA Value    SA Value\n",
              "Date       ..."
            ]
          },
          "metadata": {
            "tags": []
          },
          "execution_count": 44
        }
      ]
    }
  ]
}